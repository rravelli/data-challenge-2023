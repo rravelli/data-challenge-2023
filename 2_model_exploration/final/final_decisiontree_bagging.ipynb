{
 "cells": [
  {
   "cell_type": "code",
   "execution_count": 1,
   "metadata": {},
   "outputs": [],
   "source": [
    "import pandas as pd\n",
    "import numpy as np"
   ]
  },
  {
   "cell_type": "markdown",
   "metadata": {},
   "source": [
    "# Decision Tree - 14/11/2023\n"
   ]
  },
  {
   "cell_type": "markdown",
   "metadata": {},
   "source": [
    "- Import des données\n"
   ]
  },
  {
   "cell_type": "code",
   "execution_count": 2,
   "metadata": {},
   "outputs": [],
   "source": [
    "path = \"./../../data\"\n",
    "x_data = pd.read_csv(path + \"/Xtrain_hgcGIrA.csv\", sep=\",\")  # features\n",
    "y_data = pd.read_csv(\n",
    "    path + \"/Ytrain_yL5OjS4.csv\", sep=\",\", usecols=[1]\n",
    ")  # occupancy rate\n",
    "x_predict = pd.read_csv(\n",
    "    path + \"/Xtest.csv\", sep=\",\"\n",
    ")  # features pour la prédiction"
   ]
  },
  {
   "cell_type": "markdown",
   "metadata": {},
   "source": [
    "- Mise en forme de x_data\n"
   ]
  },
  {
   "cell_type": "code",
   "execution_count": 3,
   "metadata": {},
   "outputs": [],
   "source": [
    "x_data = x_data.drop(\"date\", axis=1)  # on supprime la colonne date\n",
    "x_data = x_data.drop(\"way\", axis=1)  # on supprime la colonne way\n",
    "x_data[\"hour\"] = x_data[\"hour\"].apply(\n",
    "    lambda x: int(x[:2]) if isinstance(x, str) else np.nan\n",
    ")  # on transforme les strings des heures en float\n",
    "x_data[\"station\"] = x_data[\"station\"].astype(\"category\")\n",
    "cat_columns = x_data.select_dtypes([\"category\"]).columns\n",
    "x_data[cat_columns] = x_data[cat_columns].apply(lambda x: x.cat.codes)"
   ]
  },
  {
   "cell_type": "markdown",
   "metadata": {},
   "source": [
    "- Mise en forme de x_predict\n"
   ]
  },
  {
   "cell_type": "code",
   "execution_count": 4,
   "metadata": {},
   "outputs": [],
   "source": [
    "x_predict = x_predict.drop(\"date\", axis=1)  # on supprime la colonne date\n",
    "x_predict = x_predict.drop(\"way\", axis=1)  # on supprime la colonne way\n",
    "x_predict[\"hour\"] = x_predict[\"hour\"].apply(\n",
    "    lambda x: int(x[:2]) if isinstance(x, str) else np.nan\n",
    ")  # on transforme les strings des heures en float\n",
    "x_predict[\"station\"] = x_predict[\"station\"].astype(\"category\")\n",
    "cat_columns = x_predict.select_dtypes([\"category\"]).columns\n",
    "x_predict[cat_columns] = x_predict[cat_columns].apply(lambda x: x.cat.codes)"
   ]
  },
  {
   "cell_type": "markdown",
   "metadata": {},
   "source": [
    "- Apprentissage du modèle retenu\n"
   ]
  },
  {
   "cell_type": "code",
   "execution_count": 5,
   "metadata": {},
   "outputs": [],
   "source": [
    "from sklearn.tree import DecisionTreeRegressor"
   ]
  },
  {
   "cell_type": "code",
   "execution_count": 6,
   "metadata": {},
   "outputs": [
    {
     "data": {
      "text/plain": [
       "0.9200147463817054"
      ]
     },
     "execution_count": 6,
     "metadata": {},
     "output_type": "execute_result"
    }
   ],
   "source": [
    "DR_VF = DecisionTreeRegressor(\n",
    "    max_depth=194,\n",
    "    min_samples_split=0.00035714285714285714,\n",
    "    criterion=\"friedman_mse\",\n",
    "    max_features=9,\n",
    "    random_state=11,\n",
    ")\n",
    "DR_VF.fit(x_data.values, y_data.values)\n",
    "DR_VF.score(x_data.values, y_data.values)"
   ]
  },
  {
   "cell_type": "markdown",
   "metadata": {},
   "source": [
    "- Prédiction et export\n"
   ]
  },
  {
   "cell_type": "code",
   "execution_count": 7,
   "metadata": {},
   "outputs": [],
   "source": [
    "y_predict = DR_VF.predict(x_predict.values)"
   ]
  },
  {
   "cell_type": "code",
   "execution_count": 8,
   "metadata": {},
   "outputs": [],
   "source": [
    "from export import export_to_csv\n",
    "\n",
    "export_to_csv(y_predict, \"decision_tree_23_11_14\")"
   ]
  },
  {
   "cell_type": "markdown",
   "metadata": {},
   "source": [
    "Score obtenu : 0,03335999746890835\n"
   ]
  },
  {
   "cell_type": "markdown",
   "metadata": {},
   "source": [
    "# Bagging Regressor with Decision Tree - 14/11/2023\n"
   ]
  },
  {
   "cell_type": "markdown",
   "metadata": {},
   "source": [
    "- Import des données\n"
   ]
  },
  {
   "cell_type": "code",
   "execution_count": 11,
   "metadata": {},
   "outputs": [
    {
     "ename": "FileNotFoundError",
     "evalue": "[Errno 2] No such file or directory: '../../../data/Xtrain_hgcGIrA.csv'",
     "output_type": "error",
     "traceback": [
      "\u001b[0;31m---------------------------------------------------------------------------\u001b[0m",
      "\u001b[0;31mFileNotFoundError\u001b[0m                         Traceback (most recent call last)",
      "\u001b[1;32m/mnt/889A656D9A655928/Users/remir/Documents/EI3/STASC/DATA CHALLENGE/data-challenge-2023/2_model_exploration/final/final_decisiontree_bagging.ipynb Cell 18\u001b[0m line \u001b[0;36m2\n\u001b[1;32m      <a href='vscode-notebook-cell:/mnt/889A656D9A655928/Users/remir/Documents/EI3/STASC/DATA%20CHALLENGE/data-challenge-2023/2_model_exploration/final/final_decisiontree_bagging.ipynb#X23sZmlsZQ%3D%3D?line=0'>1</a>\u001b[0m path \u001b[39m=\u001b[39m \u001b[39m\"\u001b[39m\u001b[39m../../../data\u001b[39m\u001b[39m\"\u001b[39m\n\u001b[0;32m----> <a href='vscode-notebook-cell:/mnt/889A656D9A655928/Users/remir/Documents/EI3/STASC/DATA%20CHALLENGE/data-challenge-2023/2_model_exploration/final/final_decisiontree_bagging.ipynb#X23sZmlsZQ%3D%3D?line=1'>2</a>\u001b[0m x_data \u001b[39m=\u001b[39m pd\u001b[39m.\u001b[39;49mread_csv(path \u001b[39m+\u001b[39;49m \u001b[39m\"\u001b[39;49m\u001b[39m/Xtrain_hgcGIrA.csv\u001b[39;49m\u001b[39m\"\u001b[39;49m, sep\u001b[39m=\u001b[39;49m\u001b[39m\"\u001b[39;49m\u001b[39m,\u001b[39;49m\u001b[39m\"\u001b[39;49m)  \u001b[39m# features\u001b[39;00m\n\u001b[1;32m      <a href='vscode-notebook-cell:/mnt/889A656D9A655928/Users/remir/Documents/EI3/STASC/DATA%20CHALLENGE/data-challenge-2023/2_model_exploration/final/final_decisiontree_bagging.ipynb#X23sZmlsZQ%3D%3D?line=2'>3</a>\u001b[0m y_data \u001b[39m=\u001b[39m pd\u001b[39m.\u001b[39mread_csv(\n\u001b[1;32m      <a href='vscode-notebook-cell:/mnt/889A656D9A655928/Users/remir/Documents/EI3/STASC/DATA%20CHALLENGE/data-challenge-2023/2_model_exploration/final/final_decisiontree_bagging.ipynb#X23sZmlsZQ%3D%3D?line=3'>4</a>\u001b[0m     path \u001b[39m+\u001b[39m \u001b[39m\"\u001b[39m\u001b[39m/Ytrain_yL5OjS4.csv\u001b[39m\u001b[39m\"\u001b[39m, sep\u001b[39m=\u001b[39m\u001b[39m\"\u001b[39m\u001b[39m,\u001b[39m\u001b[39m\"\u001b[39m, usecols\u001b[39m=\u001b[39m[\u001b[39m1\u001b[39m]\n\u001b[1;32m      <a href='vscode-notebook-cell:/mnt/889A656D9A655928/Users/remir/Documents/EI3/STASC/DATA%20CHALLENGE/data-challenge-2023/2_model_exploration/final/final_decisiontree_bagging.ipynb#X23sZmlsZQ%3D%3D?line=4'>5</a>\u001b[0m )  \u001b[39m# occupancy rate\u001b[39;00m\n\u001b[1;32m      <a href='vscode-notebook-cell:/mnt/889A656D9A655928/Users/remir/Documents/EI3/STASC/DATA%20CHALLENGE/data-challenge-2023/2_model_exploration/final/final_decisiontree_bagging.ipynb#X23sZmlsZQ%3D%3D?line=5'>6</a>\u001b[0m x_predict \u001b[39m=\u001b[39m pd\u001b[39m.\u001b[39mread_csv(\n\u001b[1;32m      <a href='vscode-notebook-cell:/mnt/889A656D9A655928/Users/remir/Documents/EI3/STASC/DATA%20CHALLENGE/data-challenge-2023/2_model_exploration/final/final_decisiontree_bagging.ipynb#X23sZmlsZQ%3D%3D?line=6'>7</a>\u001b[0m     path \u001b[39m+\u001b[39m \u001b[39m\"\u001b[39m\u001b[39m/Xtest.csv\u001b[39m\u001b[39m\"\u001b[39m, sep\u001b[39m=\u001b[39m\u001b[39m\"\u001b[39m\u001b[39m,\u001b[39m\u001b[39m\"\u001b[39m\n\u001b[1;32m      <a href='vscode-notebook-cell:/mnt/889A656D9A655928/Users/remir/Documents/EI3/STASC/DATA%20CHALLENGE/data-challenge-2023/2_model_exploration/final/final_decisiontree_bagging.ipynb#X23sZmlsZQ%3D%3D?line=7'>8</a>\u001b[0m )  \u001b[39m# features pour la prédiction\u001b[39;00m\n",
      "File \u001b[0;32m~/mambaforge/lib/python3.11/site-packages/pandas/io/parsers/readers.py:948\u001b[0m, in \u001b[0;36mread_csv\u001b[0;34m(filepath_or_buffer, sep, delimiter, header, names, index_col, usecols, dtype, engine, converters, true_values, false_values, skipinitialspace, skiprows, skipfooter, nrows, na_values, keep_default_na, na_filter, verbose, skip_blank_lines, parse_dates, infer_datetime_format, keep_date_col, date_parser, date_format, dayfirst, cache_dates, iterator, chunksize, compression, thousands, decimal, lineterminator, quotechar, quoting, doublequote, escapechar, comment, encoding, encoding_errors, dialect, on_bad_lines, delim_whitespace, low_memory, memory_map, float_precision, storage_options, dtype_backend)\u001b[0m\n\u001b[1;32m    935\u001b[0m kwds_defaults \u001b[39m=\u001b[39m _refine_defaults_read(\n\u001b[1;32m    936\u001b[0m     dialect,\n\u001b[1;32m    937\u001b[0m     delimiter,\n\u001b[0;32m   (...)\u001b[0m\n\u001b[1;32m    944\u001b[0m     dtype_backend\u001b[39m=\u001b[39mdtype_backend,\n\u001b[1;32m    945\u001b[0m )\n\u001b[1;32m    946\u001b[0m kwds\u001b[39m.\u001b[39mupdate(kwds_defaults)\n\u001b[0;32m--> 948\u001b[0m \u001b[39mreturn\u001b[39;00m _read(filepath_or_buffer, kwds)\n",
      "File \u001b[0;32m~/mambaforge/lib/python3.11/site-packages/pandas/io/parsers/readers.py:611\u001b[0m, in \u001b[0;36m_read\u001b[0;34m(filepath_or_buffer, kwds)\u001b[0m\n\u001b[1;32m    608\u001b[0m _validate_names(kwds\u001b[39m.\u001b[39mget(\u001b[39m\"\u001b[39m\u001b[39mnames\u001b[39m\u001b[39m\"\u001b[39m, \u001b[39mNone\u001b[39;00m))\n\u001b[1;32m    610\u001b[0m \u001b[39m# Create the parser.\u001b[39;00m\n\u001b[0;32m--> 611\u001b[0m parser \u001b[39m=\u001b[39m TextFileReader(filepath_or_buffer, \u001b[39m*\u001b[39;49m\u001b[39m*\u001b[39;49mkwds)\n\u001b[1;32m    613\u001b[0m \u001b[39mif\u001b[39;00m chunksize \u001b[39mor\u001b[39;00m iterator:\n\u001b[1;32m    614\u001b[0m     \u001b[39mreturn\u001b[39;00m parser\n",
      "File \u001b[0;32m~/mambaforge/lib/python3.11/site-packages/pandas/io/parsers/readers.py:1448\u001b[0m, in \u001b[0;36mTextFileReader.__init__\u001b[0;34m(self, f, engine, **kwds)\u001b[0m\n\u001b[1;32m   1445\u001b[0m     \u001b[39mself\u001b[39m\u001b[39m.\u001b[39moptions[\u001b[39m\"\u001b[39m\u001b[39mhas_index_names\u001b[39m\u001b[39m\"\u001b[39m] \u001b[39m=\u001b[39m kwds[\u001b[39m\"\u001b[39m\u001b[39mhas_index_names\u001b[39m\u001b[39m\"\u001b[39m]\n\u001b[1;32m   1447\u001b[0m \u001b[39mself\u001b[39m\u001b[39m.\u001b[39mhandles: IOHandles \u001b[39m|\u001b[39m \u001b[39mNone\u001b[39;00m \u001b[39m=\u001b[39m \u001b[39mNone\u001b[39;00m\n\u001b[0;32m-> 1448\u001b[0m \u001b[39mself\u001b[39m\u001b[39m.\u001b[39m_engine \u001b[39m=\u001b[39m \u001b[39mself\u001b[39;49m\u001b[39m.\u001b[39;49m_make_engine(f, \u001b[39mself\u001b[39;49m\u001b[39m.\u001b[39;49mengine)\n",
      "File \u001b[0;32m~/mambaforge/lib/python3.11/site-packages/pandas/io/parsers/readers.py:1705\u001b[0m, in \u001b[0;36mTextFileReader._make_engine\u001b[0;34m(self, f, engine)\u001b[0m\n\u001b[1;32m   1703\u001b[0m     \u001b[39mif\u001b[39;00m \u001b[39m\"\u001b[39m\u001b[39mb\u001b[39m\u001b[39m\"\u001b[39m \u001b[39mnot\u001b[39;00m \u001b[39min\u001b[39;00m mode:\n\u001b[1;32m   1704\u001b[0m         mode \u001b[39m+\u001b[39m\u001b[39m=\u001b[39m \u001b[39m\"\u001b[39m\u001b[39mb\u001b[39m\u001b[39m\"\u001b[39m\n\u001b[0;32m-> 1705\u001b[0m \u001b[39mself\u001b[39m\u001b[39m.\u001b[39mhandles \u001b[39m=\u001b[39m get_handle(\n\u001b[1;32m   1706\u001b[0m     f,\n\u001b[1;32m   1707\u001b[0m     mode,\n\u001b[1;32m   1708\u001b[0m     encoding\u001b[39m=\u001b[39;49m\u001b[39mself\u001b[39;49m\u001b[39m.\u001b[39;49moptions\u001b[39m.\u001b[39;49mget(\u001b[39m\"\u001b[39;49m\u001b[39mencoding\u001b[39;49m\u001b[39m\"\u001b[39;49m, \u001b[39mNone\u001b[39;49;00m),\n\u001b[1;32m   1709\u001b[0m     compression\u001b[39m=\u001b[39;49m\u001b[39mself\u001b[39;49m\u001b[39m.\u001b[39;49moptions\u001b[39m.\u001b[39;49mget(\u001b[39m\"\u001b[39;49m\u001b[39mcompression\u001b[39;49m\u001b[39m\"\u001b[39;49m, \u001b[39mNone\u001b[39;49;00m),\n\u001b[1;32m   1710\u001b[0m     memory_map\u001b[39m=\u001b[39;49m\u001b[39mself\u001b[39;49m\u001b[39m.\u001b[39;49moptions\u001b[39m.\u001b[39;49mget(\u001b[39m\"\u001b[39;49m\u001b[39mmemory_map\u001b[39;49m\u001b[39m\"\u001b[39;49m, \u001b[39mFalse\u001b[39;49;00m),\n\u001b[1;32m   1711\u001b[0m     is_text\u001b[39m=\u001b[39;49mis_text,\n\u001b[1;32m   1712\u001b[0m     errors\u001b[39m=\u001b[39;49m\u001b[39mself\u001b[39;49m\u001b[39m.\u001b[39;49moptions\u001b[39m.\u001b[39;49mget(\u001b[39m\"\u001b[39;49m\u001b[39mencoding_errors\u001b[39;49m\u001b[39m\"\u001b[39;49m, \u001b[39m\"\u001b[39;49m\u001b[39mstrict\u001b[39;49m\u001b[39m\"\u001b[39;49m),\n\u001b[1;32m   1713\u001b[0m     storage_options\u001b[39m=\u001b[39;49m\u001b[39mself\u001b[39;49m\u001b[39m.\u001b[39;49moptions\u001b[39m.\u001b[39;49mget(\u001b[39m\"\u001b[39;49m\u001b[39mstorage_options\u001b[39;49m\u001b[39m\"\u001b[39;49m, \u001b[39mNone\u001b[39;49;00m),\n\u001b[1;32m   1714\u001b[0m )\n\u001b[1;32m   1715\u001b[0m \u001b[39massert\u001b[39;00m \u001b[39mself\u001b[39m\u001b[39m.\u001b[39mhandles \u001b[39mis\u001b[39;00m \u001b[39mnot\u001b[39;00m \u001b[39mNone\u001b[39;00m\n\u001b[1;32m   1716\u001b[0m f \u001b[39m=\u001b[39m \u001b[39mself\u001b[39m\u001b[39m.\u001b[39mhandles\u001b[39m.\u001b[39mhandle\n",
      "File \u001b[0;32m~/mambaforge/lib/python3.11/site-packages/pandas/io/common.py:863\u001b[0m, in \u001b[0;36mget_handle\u001b[0;34m(path_or_buf, mode, encoding, compression, memory_map, is_text, errors, storage_options)\u001b[0m\n\u001b[1;32m    858\u001b[0m \u001b[39melif\u001b[39;00m \u001b[39misinstance\u001b[39m(handle, \u001b[39mstr\u001b[39m):\n\u001b[1;32m    859\u001b[0m     \u001b[39m# Check whether the filename is to be opened in binary mode.\u001b[39;00m\n\u001b[1;32m    860\u001b[0m     \u001b[39m# Binary mode does not support 'encoding' and 'newline'.\u001b[39;00m\n\u001b[1;32m    861\u001b[0m     \u001b[39mif\u001b[39;00m ioargs\u001b[39m.\u001b[39mencoding \u001b[39mand\u001b[39;00m \u001b[39m\"\u001b[39m\u001b[39mb\u001b[39m\u001b[39m\"\u001b[39m \u001b[39mnot\u001b[39;00m \u001b[39min\u001b[39;00m ioargs\u001b[39m.\u001b[39mmode:\n\u001b[1;32m    862\u001b[0m         \u001b[39m# Encoding\u001b[39;00m\n\u001b[0;32m--> 863\u001b[0m         handle \u001b[39m=\u001b[39m \u001b[39mopen\u001b[39;49m(\n\u001b[1;32m    864\u001b[0m             handle,\n\u001b[1;32m    865\u001b[0m             ioargs\u001b[39m.\u001b[39;49mmode,\n\u001b[1;32m    866\u001b[0m             encoding\u001b[39m=\u001b[39;49mioargs\u001b[39m.\u001b[39;49mencoding,\n\u001b[1;32m    867\u001b[0m             errors\u001b[39m=\u001b[39;49merrors,\n\u001b[1;32m    868\u001b[0m             newline\u001b[39m=\u001b[39;49m\u001b[39m\"\u001b[39;49m\u001b[39m\"\u001b[39;49m,\n\u001b[1;32m    869\u001b[0m         )\n\u001b[1;32m    870\u001b[0m     \u001b[39melse\u001b[39;00m:\n\u001b[1;32m    871\u001b[0m         \u001b[39m# Binary mode\u001b[39;00m\n\u001b[1;32m    872\u001b[0m         handle \u001b[39m=\u001b[39m \u001b[39mopen\u001b[39m(handle, ioargs\u001b[39m.\u001b[39mmode)\n",
      "\u001b[0;31mFileNotFoundError\u001b[0m: [Errno 2] No such file or directory: '../../../data/Xtrain_hgcGIrA.csv'"
     ]
    }
   ],
   "source": [
    "path = \"./../../data\"\n",
    "x_data = pd.read_csv(path + \"/Xtrain_hgcGIrA.csv\", sep=\",\")  # features\n",
    "y_data = pd.read_csv(\n",
    "    path + \"/Ytrain_yL5OjS4.csv\", sep=\",\", usecols=[1]\n",
    ")  # occupancy rate\n",
    "x_predict = pd.read_csv(\n",
    "    path + \"/Xtest.csv\", sep=\",\"\n",
    ")  # features pour la prédiction"
   ]
  },
  {
   "cell_type": "markdown",
   "metadata": {},
   "source": [
    "- Mise en forme de x_data\n"
   ]
  },
  {
   "cell_type": "code",
   "execution_count": null,
   "metadata": {},
   "outputs": [],
   "source": [
    "x_data = x_data.drop(\"date\", axis=1)  # on supprime la colonne date\n",
    "x_data = x_data.drop(\"way\", axis=1)  # on supprime la colonne way\n",
    "x_data[\"hour\"] = x_data[\"hour\"].apply(\n",
    "    lambda x: int(x[:2]) if isinstance(x, str) else np.nan\n",
    ")  # on transforme les strings des heures en float\n",
    "x_data[\"station\"] = x_data[\"station\"].astype(\"category\")\n",
    "cat_columns = x_data.select_dtypes([\"category\"]).columns\n",
    "x_data[cat_columns] = x_data[cat_columns].apply(lambda x: x.cat.codes)"
   ]
  },
  {
   "cell_type": "markdown",
   "metadata": {},
   "source": [
    "- Mise en forme de x_predict\n"
   ]
  },
  {
   "cell_type": "code",
   "execution_count": null,
   "metadata": {},
   "outputs": [],
   "source": [
    "x_predict = x_predict.drop(\"date\", axis=1)  # on supprime la colonne date\n",
    "x_predict = x_predict.drop(\"way\", axis=1)  # on supprime la colonne way\n",
    "x_predict[\"hour\"] = x_predict[\"hour\"].apply(\n",
    "    lambda x: int(x[:2]) if isinstance(x, str) else np.nan\n",
    ")  # on transforme les strings des heures en float\n",
    "x_predict[\"station\"] = x_predict[\"station\"].astype(\"category\")\n",
    "cat_columns = x_predict.select_dtypes([\"category\"]).columns\n",
    "x_predict[cat_columns] = x_predict[cat_columns].apply(lambda x: x.cat.codes)"
   ]
  },
  {
   "cell_type": "markdown",
   "metadata": {},
   "source": [
    "- Apprentissage du modèle retenu\n"
   ]
  },
  {
   "cell_type": "code",
   "execution_count": null,
   "metadata": {},
   "outputs": [],
   "source": [
    "from sklearn.ensemble import BaggingRegressor"
   ]
  },
  {
   "cell_type": "code",
   "execution_count": null,
   "metadata": {},
   "outputs": [
    {
     "name": "stderr",
     "output_type": "stream",
     "text": [
      "/home/mcoutier/miniconda3/envs/STASC/lib/python3.10/site-packages/sklearn/ensemble/_bagging.py:509: DataConversionWarning: A column-vector y was passed when a 1d array was expected. Please change the shape of y to (n_samples, ), for example using ravel().\n",
      "  return column_or_1d(y, warn=True)\n"
     ]
    },
    {
     "data": {
      "text/plain": [
       "0.9228845942072106"
      ]
     },
     "execution_count": 14,
     "metadata": {},
     "output_type": "execute_result"
    }
   ],
   "source": [
    "BR_1 = BaggingRegressor(\n",
    "    DecisionTreeRegressor(\n",
    "        max_depth=194,\n",
    "        min_samples_split=0.00035714285714285714,\n",
    "        criterion=\"friedman_mse\",\n",
    "        max_features=9,\n",
    "        random_state=11,\n",
    "    ),\n",
    "    n_estimators=52,\n",
    ")\n",
    "BR_1.fit(x_data.values, y_data.values)\n",
    "BR_1.score(x_data.values, y_data.values)"
   ]
  },
  {
   "cell_type": "markdown",
   "metadata": {},
   "source": [
    "- Prédiction et export\n"
   ]
  },
  {
   "cell_type": "code",
   "execution_count": null,
   "metadata": {},
   "outputs": [],
   "source": [
    "y_predict = BR_1.predict(x_predict.values)\n",
    "export_to_csv(y_predict, \"bagging_decision_tree_23_11_14\")"
   ]
  },
  {
   "cell_type": "markdown",
   "metadata": {},
   "source": [
    "Score obtenu : 0,0337084999304966\n"
   ]
  },
  {
   "cell_type": "markdown",
   "metadata": {},
   "source": [
    "Ce score est inférieur à celui du DecisionTree ci-dessus. Cela peut arriver. Bagging Regressor n'est pas forcément plus performant mais il est plus robuste.\n"
   ]
  }
 ],
 "metadata": {
  "kernelspec": {
   "display_name": "STASC",
   "language": "python",
   "name": "python3"
  },
  "language_info": {
   "codemirror_mode": {
    "name": "ipython",
    "version": 3
   },
   "file_extension": ".py",
   "mimetype": "text/x-python",
   "name": "python",
   "nbconvert_exporter": "python",
   "pygments_lexer": "ipython3",
   "version": "3.11.6"
  }
 },
 "nbformat": 4,
 "nbformat_minor": 2
}
