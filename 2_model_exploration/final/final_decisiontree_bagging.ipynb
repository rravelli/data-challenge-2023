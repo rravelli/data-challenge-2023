{
 "cells": [
  {
   "cell_type": "code",
   "execution_count": 2,
   "metadata": {},
   "outputs": [],
   "source": [
    "import pandas as pd\n",
    "import numpy as np"
   ]
  },
  {
   "cell_type": "markdown",
   "metadata": {},
   "source": [
    "# Decision Tree - 14/11/2023\n"
   ]
  },
  {
   "cell_type": "markdown",
   "metadata": {},
   "source": [
    "- Import des données\n"
   ]
  },
  {
   "cell_type": "code",
   "execution_count": 14,
   "metadata": {},
   "outputs": [],
   "source": [
    "path = \"./../../data\"\n",
    "x_data = pd.read_csv(path + \"/Xtrain_hgcGIrA.csv\", sep=\",\")  # features\n",
    "y_data = pd.read_csv(\n",
    "    path + \"/Ytrain_yL5OjS4.csv\", sep=\",\", usecols=[1]\n",
    ")  # occupancy rate\n",
    "x_predict = pd.read_csv(\n",
    "    path + \"/Xtest.csv\", sep=\",\"\n",
    ")  # features pour la prédiction"
   ]
  },
  {
   "cell_type": "markdown",
   "metadata": {},
   "source": [
    "- Mise en forme de x_data\n"
   ]
  },
  {
   "cell_type": "code",
   "execution_count": 15,
   "metadata": {},
   "outputs": [],
   "source": [
    "x_data = x_data.drop(\"date\", axis=1)  # on supprime la colonne date\n",
    "x_data = x_data.drop(\"way\", axis=1)  # on supprime la colonne way\n",
    "x_data[\"hour\"] = x_data[\"hour\"].apply(\n",
    "    lambda x: int(x[:2]) if isinstance(x, str) else np.nan\n",
    ")  # on transforme les strings des heures en float\n",
    "x_data[\"station\"] = x_data[\"station\"].astype(\"category\")\n",
    "cat_columns = x_data.select_dtypes([\"category\"]).columns\n",
    "x_data[cat_columns] = x_data[cat_columns].apply(lambda x: x.cat.codes)"
   ]
  },
  {
   "cell_type": "markdown",
   "metadata": {},
   "source": [
    "- Mise en forme de x_predict\n"
   ]
  },
  {
   "cell_type": "code",
   "execution_count": 16,
   "metadata": {},
   "outputs": [],
   "source": [
    "x_predict = x_predict.drop(\"date\", axis=1)  # on supprime la colonne date\n",
    "x_predict = x_predict.drop(\"way\", axis=1)  # on supprime la colonne way\n",
    "x_predict[\"hour\"] = x_predict[\"hour\"].apply(\n",
    "    lambda x: int(x[:2]) if isinstance(x, str) else np.nan\n",
    ")  # on transforme les strings des heures en float\n",
    "x_predict[\"station\"] = x_predict[\"station\"].astype(\"category\")\n",
    "cat_columns = x_predict.select_dtypes([\"category\"]).columns\n",
    "x_predict[cat_columns] = x_predict[cat_columns].apply(lambda x: x.cat.codes)"
   ]
  },
  {
   "cell_type": "markdown",
   "metadata": {},
   "source": [
    "- Apprentissage du modèle retenu\n"
   ]
  },
  {
   "cell_type": "code",
   "execution_count": 8,
   "metadata": {},
   "outputs": [],
   "source": [
    "from sklearn.tree import DecisionTreeRegressor"
   ]
  },
  {
   "cell_type": "code",
   "execution_count": 18,
   "metadata": {},
   "outputs": [
    {
     "data": {
      "text/plain": [
       "0.9200147463817054"
      ]
     },
     "execution_count": 18,
     "metadata": {},
     "output_type": "execute_result"
    }
   ],
   "source": [
    "DR_VF = DecisionTreeRegressor(\n",
    "    max_depth=194,\n",
    "    min_samples_split=0.00035714285714285714,\n",
    "    criterion=\"friedman_mse\",\n",
    "    max_features=9,\n",
    "    random_state=11,\n",
    ")\n",
    "DR_VF.fit(x_data.values, y_data.values)\n",
    "DR_VF.score(x_data.values, y_data.values)"
   ]
  },
  {
   "cell_type": "markdown",
   "metadata": {},
   "source": [
    "- Prédiction et export\n"
   ]
  },
  {
   "cell_type": "code",
   "execution_count": 19,
   "metadata": {},
   "outputs": [],
   "source": [
    "y_predict = DR_VF.predict(x_predict.values)"
   ]
  },
  {
   "cell_type": "code",
   "execution_count": 20,
   "metadata": {},
   "outputs": [],
   "source": [
    "from export import export_to_csv\n",
    "\n",
    "export_to_csv(y_predict, \"decision_tree_23_11_14\")"
   ]
  },
  {
   "cell_type": "markdown",
   "metadata": {},
   "source": [
    "Score obtenu : 0,03335999746890835\n"
   ]
  },
  {
   "cell_type": "markdown",
   "metadata": {},
   "source": [
    "# Bagging Regressor with Decision Tree - 14/11/2023\n"
   ]
  },
  {
   "cell_type": "markdown",
   "metadata": {},
   "source": [
    "- Import des données\n"
   ]
  },
  {
   "cell_type": "code",
   "execution_count": 3,
   "metadata": {},
   "outputs": [],
   "source": [
    "path = \"./../../data\"\n",
    "x_data = pd.read_csv(path + \"/Xtrain_hgcGIrA.csv\", sep=\",\")  # features\n",
    "y_data = pd.read_csv(\n",
    "    path + \"/Ytrain_yL5OjS4.csv\", sep=\",\", usecols=[1]\n",
    ")  # occupancy rate\n",
    "x_predict = pd.read_csv(\n",
    "    path + \"/Xtest.csv\", sep=\",\"\n",
    ")  # features pour la prédiction"
   ]
  },
  {
   "cell_type": "markdown",
   "metadata": {},
   "source": [
    "- Mise en forme de x_data\n"
   ]
  },
  {
   "cell_type": "code",
   "execution_count": 4,
   "metadata": {},
   "outputs": [],
   "source": [
    "x_data = x_data.drop(\"date\", axis=1)  # on supprime la colonne date\n",
    "x_data = x_data.drop(\"way\", axis=1)  # on supprime la colonne way\n",
    "x_data[\"hour\"] = x_data[\"hour\"].apply(\n",
    "    lambda x: int(x[:2]) if isinstance(x, str) else np.nan\n",
    ")  # on transforme les strings des heures en float\n",
    "x_data[\"station\"] = x_data[\"station\"].astype(\"category\")\n",
    "cat_columns = x_data.select_dtypes([\"category\"]).columns\n",
    "x_data[cat_columns] = x_data[cat_columns].apply(lambda x: x.cat.codes)"
   ]
  },
  {
   "cell_type": "markdown",
   "metadata": {},
   "source": [
    "- Mise en forme de x_predict\n"
   ]
  },
  {
   "cell_type": "code",
   "execution_count": 5,
   "metadata": {},
   "outputs": [],
   "source": [
    "x_predict = x_predict.drop(\"date\", axis=1)  # on supprime la colonne date\n",
    "x_predict = x_predict.drop(\"way\", axis=1)  # on supprime la colonne way\n",
    "x_predict[\"hour\"] = x_predict[\"hour\"].apply(\n",
    "    lambda x: int(x[:2]) if isinstance(x, str) else np.nan\n",
    ")  # on transforme les strings des heures en float\n",
    "x_predict[\"station\"] = x_predict[\"station\"].astype(\"category\")\n",
    "cat_columns = x_predict.select_dtypes([\"category\"]).columns\n",
    "x_predict[cat_columns] = x_predict[cat_columns].apply(lambda x: x.cat.codes)"
   ]
  },
  {
   "cell_type": "markdown",
   "metadata": {},
   "source": [
    "- Apprentissage du modèle retenu\n"
   ]
  },
  {
   "cell_type": "code",
   "execution_count": 6,
   "metadata": {},
   "outputs": [],
   "source": [
    "from sklearn.ensemble import BaggingRegressor"
   ]
  },
  {
   "cell_type": "code",
   "execution_count": 25,
   "metadata": {},
   "outputs": [
    {
     "name": "stderr",
     "output_type": "stream",
     "text": [
      "/home/remiravelli/mambaforge/lib/python3.11/site-packages/sklearn/ensemble/_bagging.py:509: DataConversionWarning: A column-vector y was passed when a 1d array was expected. Please change the shape of y to (n_samples, ), for example using ravel().\n",
      "  return column_or_1d(y, warn=True)\n"
     ]
    },
    {
     "data": {
      "text/plain": [
       "0.9266098060857011"
      ]
     },
     "execution_count": 25,
     "metadata": {},
     "output_type": "execute_result"
    }
   ],
   "source": [
    "BR_1 = BaggingRegressor(\n",
    "    DecisionTreeRegressor(\n",
    "        max_depth=194,\n",
    "        min_samples_split=0.00035714285714285714,\n",
    "        criterion=\"friedman_mse\",\n",
    "        max_features=9,\n",
    "        random_state=11,\n",
    "    ),\n",
    "    n_estimators=52,\n",
    ")\n",
    "BR_1.fit(x_data.values, y_data.values)\n",
    "BR_1.score(x_data.values, y_data.values)"
   ]
  },
  {
   "cell_type": "code",
   "execution_count": 9,
   "metadata": {},
   "outputs": [
    {
     "name": "stderr",
     "output_type": "stream",
     "text": [
      "/home/mcoutier/miniconda3/envs/STASC/lib/python3.10/site-packages/sklearn/ensemble/_bagging.py:509: DataConversionWarning: A column-vector y was passed when a 1d array was expected. Please change the shape of y to (n_samples, ), for example using ravel().\n",
      "  return column_or_1d(y, warn=True)\n"
     ]
    },
    {
     "data": {
      "text/plain": [
       "0.9220347887188447"
      ]
     },
     "execution_count": 9,
     "metadata": {},
     "output_type": "execute_result"
    }
   ],
   "source": [
    "BR_2 = BaggingRegressor(\n",
    "    DecisionTreeRegressor(\n",
    "        max_depth=194,\n",
    "        min_samples_split=0.00035714285714285714,\n",
    "        criterion=\"friedman_mse\",\n",
    "        max_features=9,\n",
    "        random_state=11,\n",
    "    ),\n",
    "    n_estimators=45,\n",
    ")\n",
    "BR_2.fit(x_data.values, y_data.values)\n",
    "BR_2.score(x_data.values, y_data.values)"
   ]
  },
  {
   "cell_type": "markdown",
   "metadata": {},
   "source": [
    "- Prédiction et export\n"
   ]
  },
  {
   "cell_type": "code",
   "execution_count": 11,
   "metadata": {},
   "outputs": [],
   "source": [
    "from export import export_to_csv\n",
    "y_predict = BR_2.predict(x_predict.values)\n",
    "export_to_csv(y_predict, \"bagging_decision_tree_corrected_23_11_24\")"
   ]
  },
  {
   "cell_type": "markdown",
   "metadata": {},
   "source": [
    "Score obtenu : 0,0337084999304966\n"
   ]
  },
  {
   "cell_type": "markdown",
   "metadata": {},
   "source": [
    "Ce score est inférieur à celui du DecisionTree ci-dessus. Cela peut arriver. Bagging Regressor n'est pas forcément plus performant mais il est plus robuste.\n"
   ]
  }
 ],
 "metadata": {
  "kernelspec": {
   "display_name": "STASC",
   "language": "python",
   "name": "python3"
  },
  "language_info": {
   "codemirror_mode": {
    "name": "ipython",
    "version": 3
   },
   "file_extension": ".py",
   "mimetype": "text/x-python",
   "name": "python",
   "nbconvert_exporter": "python",
   "pygments_lexer": "ipython3",
   "version": "3.10.6"
  }
 },
 "nbformat": 4,
 "nbformat_minor": 2
}
