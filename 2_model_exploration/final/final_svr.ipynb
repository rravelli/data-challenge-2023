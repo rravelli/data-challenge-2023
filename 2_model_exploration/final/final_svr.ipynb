{
 "cells": [
  {
   "cell_type": "markdown",
   "metadata": {},
   "source": [
    "# KNeighborsRegressor - 15/11/2023"
   ]
  },
  {
   "cell_type": "code",
   "execution_count": 1,
   "metadata": {},
   "outputs": [],
   "source": [
    "import pandas as pd\n",
    "import numpy as np"
   ]
  },
  {
   "cell_type": "markdown",
   "metadata": {},
   "source": [
    "- Import des données"
   ]
  },
  {
   "cell_type": "code",
   "execution_count": 2,
   "metadata": {},
   "outputs": [],
   "source": [
    "path = \"../../data\"\n",
    "x_data = pd.read_csv(path+'/Xtrain_hgcGIrA.csv', sep=',') # features\n",
    "y_data = pd.read_csv(path+'/Ytrain_yL5OjS4.csv', sep=',', usecols=[1]) # occupancy rate\n",
    "x_predict = pd.read_csv(path+'/Xtest.csv', sep=',') # features pour la prédiction"
   ]
  },
  {
   "cell_type": "markdown",
   "metadata": {},
   "source": [
    "- Mise en forme de x_data"
   ]
  },
  {
   "cell_type": "code",
   "execution_count": 3,
   "metadata": {},
   "outputs": [],
   "source": [
    "x_data = x_data.drop(\"date\", axis=1) # suppression de la colonne date\n",
    "x_data = x_data.drop(\"way\", axis=1) # suppression de la colonne way\n",
    "\n",
    "#on tranforme les identifiants de gare en entiers\n",
    "x_data[\"station\"] = x_data[\"station\"].astype('category')\n",
    "cat_columns = x_data.select_dtypes([\"category\"]).columns\n",
    "x_data[cat_columns] = x_data[cat_columns].apply(lambda x: x.cat.codes)\n",
    "\n",
    "\n",
    "x_data[\"hour\"] = x_data[\"hour\"].apply(\n",
    "    lambda x: 0 if type(x) == float else int(x[:2])\n",
    ") # on remplace les Nan de hour par des 0 et les heures par des entiers\n",
    "\n",
    "#on remplace les Nan des pxqx par 0\n",
    "x_data[[\"p1q0\", \"p2q0\", \"p3q0\", \"p0q1\", \"p0q2\", \"p0q3\"]] = x_data[[\"p1q0\", \"p2q0\", \"p3q0\", \"p0q1\", \"p0q2\", \"p0q3\"]].fillna(0)"
   ]
  },
  {
   "cell_type": "markdown",
   "metadata": {},
   "source": [
    "- Mise en forme de x_predict"
   ]
  },
  {
   "cell_type": "code",
   "execution_count": 4,
   "metadata": {},
   "outputs": [],
   "source": [
    "x_predict = x_predict.drop(\"date\", axis=1) # suppression de la colonne date\n",
    "x_predict = x_predict.drop(\"way\", axis=1) # suppression de la colonne way\n",
    "\n",
    "#on tranforme les identifiants de gare en entiers\n",
    "x_predict[\"station\"] = x_predict[\"station\"].astype('category')\n",
    "cat_columns = x_predict.select_dtypes([\"category\"]).columns\n",
    "x_predict[cat_columns] = x_predict[cat_columns].apply(lambda x: x.cat.codes)\n",
    "\n",
    "\n",
    "x_predict[\"hour\"] = x_predict[\"hour\"].apply(\n",
    "    lambda x: 0 if type(x) == float else int(x[:2])\n",
    ") # on remplace les Nan de hour par des 0 et les heures par des entiers\n",
    "\n",
    "#on remplace les Nan des pxqx par 0\n",
    "x_predict[[\"p1q0\", \"p2q0\", \"p3q0\", \"p0q1\", \"p0q2\", \"p0q3\"]] = x_predict[[\"p1q0\", \"p2q0\", \"p3q0\", \"p0q1\", \"p0q2\", \"p0q3\"]].fillna(0)"
   ]
  },
  {
   "cell_type": "markdown",
   "metadata": {},
   "source": [
    "- Apprentissage du modèle retenu"
   ]
  },
  {
   "cell_type": "code",
   "execution_count": 5,
   "metadata": {},
   "outputs": [],
   "source": [
    "from sklearn.neighbors import KNeighborsRegressor"
   ]
  },
  {
   "cell_type": "code",
   "execution_count": 6,
   "metadata": {},
   "outputs": [
    {
     "data": {
      "text/plain": [
       "0.9999206315273926"
      ]
     },
     "execution_count": 6,
     "metadata": {},
     "output_type": "execute_result"
    }
   ],
   "source": [
    "KN = KNeighborsRegressor(n_neighbors=4, weights='distance', p= 1.0)\n",
    "KN.fit(x_data.values, y_data.values)\n",
    "KN.score(x_data.values, y_data.values)"
   ]
  },
  {
   "cell_type": "markdown",
   "metadata": {},
   "source": [
    "- Prédiction et export"
   ]
  },
  {
   "cell_type": "code",
   "execution_count": 7,
   "metadata": {},
   "outputs": [],
   "source": [
    "y_predict = KN.predict(x_predict.values)"
   ]
  },
  {
   "cell_type": "code",
   "execution_count": 8,
   "metadata": {},
   "outputs": [],
   "source": [
    "from export import export_to_csv\n",
    "\n",
    "export_to_csv(y_predict, \"kneighborsregressor_2023_11_15\")"
   ]
  },
  {
   "cell_type": "markdown",
   "metadata": {},
   "source": [
    "Score obtenu : 0,015560638727527025"
   ]
  }
 ],
 "metadata": {
  "kernelspec": {
   "display_name": "STASC",
   "language": "python",
   "name": "python3"
  },
  "language_info": {
   "codemirror_mode": {
    "name": "ipython",
    "version": 3
   },
   "file_extension": ".py",
   "mimetype": "text/x-python",
   "name": "python",
   "nbconvert_exporter": "python",
   "pygments_lexer": "ipython3",
   "version": "3.10.6"
  }
 },
 "nbformat": 4,
 "nbformat_minor": 2
}
