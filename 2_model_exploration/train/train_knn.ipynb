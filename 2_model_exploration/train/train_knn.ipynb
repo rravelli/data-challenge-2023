{
 "cells": [
  {
   "cell_type": "code",
   "execution_count": 39,
   "metadata": {},
   "outputs": [],
   "source": [
    "import pandas as pd\n",
    "import numpy as np\n",
    "from sklearn.model_selection import train_test_split"
   ]
  },
  {
   "cell_type": "markdown",
   "metadata": {},
   "source": [
    "# KNeighborsRegressor"
   ]
  },
  {
   "cell_type": "markdown",
   "metadata": {},
   "source": [
    "## Préparation des données V1 - 2023/11/15"
   ]
  },
  {
   "cell_type": "markdown",
   "metadata": {},
   "source": [
    "Stratégie :    \n",
    "On supprime la colonne date et la colonne way. On remplace les NAN par des 0"
   ]
  },
  {
   "cell_type": "markdown",
   "metadata": {},
   "source": [
    "- Import des données"
   ]
  },
  {
   "cell_type": "code",
   "execution_count": 46,
   "metadata": {},
   "outputs": [],
   "source": [
    "path = \"../../data\"\n",
    "x_data = pd.read_csv(path+'/Xtrain_hgcGIrA.csv', sep=',') # features\n",
    "y_data = pd.read_csv(path+'/Ytrain_yL5OjS4.csv', sep=',', usecols=[1]) # occupancy rate"
   ]
  },
  {
   "cell_type": "markdown",
   "metadata": {},
   "source": [
    "- Mise en forme des données"
   ]
  },
  {
   "cell_type": "code",
   "execution_count": 47,
   "metadata": {},
   "outputs": [],
   "source": [
    "x_data = x_data.drop(\"date\", axis=1) # suppression de la colonne date\n",
    "x_data = x_data.drop(\"way\", axis=1) # suppression de la colonne way\n",
    "\n",
    "#on tranforme les identifiants de gare en entiers\n",
    "x_data[\"station\"] = x_data[\"station\"].astype('category')\n",
    "cat_columns = x_data.select_dtypes([\"category\"]).columns\n",
    "x_data[cat_columns] = x_data[cat_columns].apply(lambda x: x.cat.codes)\n",
    "\n",
    "\n",
    "x_data[\"hour\"] = x_data[\"hour\"].apply(\n",
    "    lambda x: 0 if type(x) == float else int(x[:2])\n",
    ") # on remplace les Nan de hour par des 0 et les heures par des entiers\n",
    "\n",
    "#on remplace les Nan des pxqx par 0\n",
    "x_data[[\"p1q0\", \"p2q0\", \"p3q0\", \"p0q1\", \"p0q2\", \"p0q3\"]] = x_data[[\"p1q0\", \"p2q0\", \"p3q0\", \"p0q1\", \"p0q2\", \"p0q3\"]].fillna(0)"
   ]
  },
  {
   "cell_type": "markdown",
   "metadata": {},
   "source": [
    "- Création d'un dataset de test et d'apprentissage"
   ]
  },
  {
   "cell_type": "code",
   "execution_count": 48,
   "metadata": {},
   "outputs": [],
   "source": [
    "y_data = y_data.iloc[x_data.index]\n",
    "x_data_train, x_data_test, y_data_train, y_data_test = train_test_split(\n",
    "    x_data, y_data, test_size=0.2\n",
    ")"
   ]
  },
  {
   "cell_type": "markdown",
   "metadata": {},
   "source": [
    "## KNeighborsRegressor - 2023/11/15 - Préparation des données V1"
   ]
  },
  {
   "cell_type": "markdown",
   "metadata": {},
   "source": [
    "- Import de KNeighborsRegressor"
   ]
  },
  {
   "cell_type": "code",
   "execution_count": 49,
   "metadata": {},
   "outputs": [],
   "source": [
    "from sklearn.neighbors import KNeighborsRegressor"
   ]
  },
  {
   "cell_type": "markdown",
   "metadata": {},
   "source": [
    "- Test sans jouer sur les paramètres"
   ]
  },
  {
   "cell_type": "code",
   "execution_count": 50,
   "metadata": {},
   "outputs": [
    {
     "name": "stdout",
     "output_type": "stream",
     "text": [
      "Score train 0.9799021146468689\n",
      "Score test 0.9666271239763211\n"
     ]
    }
   ],
   "source": [
    "KN = KNeighborsRegressor()\n",
    "KN.fit(x_data_train, y_data_train)\n",
    "\n",
    "print(\"Score train\", KN.score(x_data_train, y_data_train))\n",
    "print(\"Score test\", KN.score(x_data_test, y_data_test))"
   ]
  },
  {
   "cell_type": "markdown",
   "metadata": {},
   "source": [
    "Le score est plutôt bon. On va maintenant essayer d'optimiser les paramètres"
   ]
  },
  {
   "cell_type": "markdown",
   "metadata": {},
   "source": [
    "- Choix des paramètres"
   ]
  },
  {
   "cell_type": "code",
   "execution_count": 53,
   "metadata": {},
   "outputs": [
    {
     "name": "stdout",
     "output_type": "stream",
     "text": [
      "0.9689247627603355 {'algorithm': 'auto', 'n_neighbors': 4, 'p': 1.0, 'weights': 'distance'}\n",
      "1314.6770651340485 sec\n"
     ]
    }
   ],
   "source": [
    "from sklearn.model_selection import KFold\n",
    "from sklearn.model_selection import GridSearchCV\n",
    "from time import time\n",
    "\n",
    "start = time()\n",
    "\n",
    "my_kfold = KFold(n_splits=10, shuffle=True, random_state=0)\n",
    "\n",
    "n_neighbors = [x for x in range(1,11)]\n",
    "weights = ['uniform', 'distance']\n",
    "algorithm = ['auto', 'ball_tree', 'kd_tree', 'brute']\n",
    "p = np.linspace(1,2.5,10)\n",
    "\n",
    "tuned_parameters = {'n_neighbors': n_neighbors, 'weights' : weights, 'algorithm' : algorithm, 'p':p}  \n",
    "\n",
    "KN_params = GridSearchCV(KNeighborsRegressor(),\n",
    "                      tuned_parameters,\n",
    "                      cv=my_kfold,\n",
    "                      n_jobs=-1)\n",
    "\n",
    "KN_params.fit(x_data_train, y_data_train)\n",
    "print(KN_params.score(x_data_test, y_data_test), KN_params.best_params_)\n",
    "print(str(time() - start)+ \" sec\")"
   ]
  },
  {
   "cell_type": "markdown",
   "metadata": {},
   "source": [
    "Premier test avec \n",
    "- n_neighbors = [2, 5, 10, 25, 50, 100, 200]\n",
    "- weights = ['uniform', 'distance']\n",
    "- algorithm = ['auto', 'ball_tree', 'kd_tree', 'brute']\n",
    "- p = [1, 2, 5, 10, 25, 50, 100]\n",
    "\n",
    "On obtient : \n",
    "\n",
    "0.9686036274176808 {'algorithm': 'auto', 'n_neighbors': 5, 'p': 1, 'weights': 'distance'}    \n",
    "620.6240813732147 sec\n"
   ]
  },
  {
   "cell_type": "markdown",
   "metadata": {},
   "source": [
    "Deuxième test avec \n",
    "- n_neighbors = [x for x in range(1,11)]\n",
    "- weights = ['uniform', 'distance']\n",
    "- algorithm = ['auto', 'ball_tree', 'kd_tree', 'brute']\n",
    "- p = np.linspace(1,5,10)\n",
    "\n",
    "On obtient : \n",
    "\n",
    "0.9689247627603355 {'algorithm': 'auto', 'n_neighbors': 4, 'p': 1.0, 'weights': 'distance'}    \n",
    "1487.465755224228 sec\n"
   ]
  },
  {
   "cell_type": "markdown",
   "metadata": {},
   "source": [
    "On va juste préciser le paramètre p."
   ]
  },
  {
   "cell_type": "markdown",
   "metadata": {},
   "source": [
    "Troisième test avec \n",
    "- n_neighbors = [x for x in range(1,11)]\n",
    "- weights = ['uniform', 'distance']\n",
    "- algorithm = ['auto', 'ball_tree', 'kd_tree', 'brute']\n",
    "- p = np.linspace(1,2.5,10)\n",
    "\n",
    "On obtient encore : \n",
    "\n",
    "0.9689247627603355 {'algorithm': 'auto', 'n_neighbors': 4, 'p': 1.0, 'weights': 'distance'}    \n",
    "1314.6770651340485 sec"
   ]
  },
  {
   "cell_type": "markdown",
   "metadata": {},
   "source": [
    "On se fixe sur les paramètres suivants :\n",
    "- n_neighbors = 4\n",
    "- weights = distance\n",
    "- algorithm = auto (paramètre par défaut)\n",
    "- p = 1.0"
   ]
  }
 ],
 "metadata": {
  "kernelspec": {
   "display_name": "base",
   "language": "python",
   "name": "python3"
  },
  "language_info": {
   "codemirror_mode": {
    "name": "ipython",
    "version": 3
   },
   "file_extension": ".py",
   "mimetype": "text/x-python",
   "name": "python",
   "nbconvert_exporter": "python",
   "pygments_lexer": "ipython3",
   "version": "3.10.6"
  }
 },
 "nbformat": 4,
 "nbformat_minor": 2
}
