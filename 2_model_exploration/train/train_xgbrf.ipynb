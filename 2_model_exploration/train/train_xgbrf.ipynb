{
 "cells": [
  {
   "cell_type": "code",
   "execution_count": 1,
   "metadata": {},
   "outputs": [],
   "source": [
    "import pandas as pd\n",
    "import numpy as np"
   ]
  },
  {
   "cell_type": "markdown",
   "metadata": {},
   "source": [
    "# XGBoostRandomForest\n"
   ]
  },
  {
   "cell_type": "markdown",
   "metadata": {},
   "source": [
    "## Préparation des données V1 - 2023/11/15\n"
   ]
  },
  {
   "cell_type": "markdown",
   "metadata": {},
   "source": [
    "Stratégie :  \n",
    "On remplace les heures par des floats, les identifiants de station par des entiers et on supprime la colonne 'date'.  \n",
    "(La suppression de la colonne 'way' a été oubliée)\n",
    "On a fait une division : 90% du dataset pour le train, 10% pour le test\n"
   ]
  },
  {
   "cell_type": "markdown",
   "metadata": {},
   "source": [
    "- Import des données\n"
   ]
  },
  {
   "cell_type": "code",
   "execution_count": 2,
   "metadata": {},
   "outputs": [],
   "source": [
    "path = \"./../../data\"\n",
    "x_data = pd.read_csv(path + \"/Xtrain_hgcGIrA.csv\", sep=\",\")  # features\n",
    "y_data = pd.read_csv(\n",
    "    path + \"/Ytrain_yL5OjS4.csv\", sep=\",\", usecols=[1]\n",
    ")  # occupancy rate"
   ]
  },
  {
   "cell_type": "markdown",
   "metadata": {},
   "source": [
    "- Mise en forme des données\n"
   ]
  },
  {
   "cell_type": "code",
   "execution_count": 3,
   "metadata": {},
   "outputs": [],
   "source": [
    "x_data = x_data.drop(\"date\", axis=1)  # on supprime la colonne date\n",
    "x_data = x_data.drop(\"way\", axis=1)  # on supprime la colonne way\n",
    "x_data[\"hour\"] = x_data[\"hour\"].apply(\n",
    "    lambda x: int(x[:2]) if isinstance(x, str) else np.nan\n",
    ")  # on transforme les strings des heures en float\n",
    "# on tranforme les identifiants de gare en entiers\n",
    "x_data[\"station\"] = x_data[\"station\"].astype(\"category\")\n",
    "cat_columns = x_data.select_dtypes([\"category\"]).columns\n",
    "x_data[cat_columns] = x_data[cat_columns].apply(lambda x: x.cat.codes)"
   ]
  },
  {
   "cell_type": "markdown",
   "metadata": {},
   "source": [
    "- Création d'un dataset de test et de validation\n"
   ]
  },
  {
   "cell_type": "code",
   "execution_count": 4,
   "metadata": {},
   "outputs": [],
   "source": [
    "from sklearn.model_selection import train_test_split\n",
    "\n",
    "X_train, X_test, y_train, y_test = train_test_split(\n",
    "    x_data.values, y_data.values, train_size=0.8\n",
    ")"
   ]
  },
  {
   "cell_type": "markdown",
   "metadata": {},
   "source": [
    "## XGBoostREGRESSOR - 2023/11/13 - Préparation des données V1\n"
   ]
  },
  {
   "cell_type": "markdown",
   "metadata": {},
   "source": [
    "On utilise le regresseur et pas le classifieur car on ne cherche pas la classe de p0q0 mais sa valeur précise.\n"
   ]
  },
  {
   "cell_type": "markdown",
   "metadata": {},
   "source": [
    "- Import de XGBRegresseur\n"
   ]
  },
  {
   "cell_type": "code",
   "execution_count": 5,
   "metadata": {},
   "outputs": [],
   "source": [
    "from xgboost import XGBRFRegressor"
   ]
  },
  {
   "cell_type": "markdown",
   "metadata": {},
   "source": [
    "- Test sans jouer sur les paramètres\n"
   ]
  },
  {
   "cell_type": "code",
   "execution_count": 6,
   "metadata": {},
   "outputs": [
    {
     "data": {
      "text/plain": [
       "0.9534488145772185"
      ]
     },
     "execution_count": 6,
     "metadata": {},
     "output_type": "execute_result"
    }
   ],
   "source": [
    "XGBRF = XGBRFRegressor()\n",
    "XGBRF.fit(X_train, y_train)\n",
    "XGBRF.score(X_test, y_test)"
   ]
  },
  {
   "cell_type": "markdown",
   "metadata": {},
   "source": [
    "Le score est moins bien que les autres méthodes on va tenter de l'optimiser.\n"
   ]
  },
  {
   "cell_type": "markdown",
   "metadata": {},
   "source": [
    "- Choix de learning_rate et n_estimators\n"
   ]
  },
  {
   "cell_type": "code",
   "execution_count": 8,
   "metadata": {},
   "outputs": [
    {
     "name": "stdout",
     "output_type": "stream",
     "text": [
      "0.9535046268206377 {'learning_rate': 1.0, 'n_estimators': 610}\n",
      "267.37779450416565 sec\n"
     ]
    }
   ],
   "source": [
    "from sklearn.model_selection import KFold\n",
    "from sklearn.model_selection import GridSearchCV\n",
    "from time import time\n",
    "\n",
    "start = time()\n",
    "\n",
    "my_kfold = KFold(n_splits=5, shuffle=True, random_state=0)\n",
    "\n",
    "n_estimators = np.arange(600, 650, 10)\n",
    "learning_rate = np.linspace(0.8, 1.1, 10)\n",
    "\n",
    "tuned_parameters = {\n",
    "    \"n_estimators\": n_estimators,\n",
    "    \"learning_rate\": learning_rate,\n",
    "}\n",
    "\n",
    "XGBRF_params = GridSearchCV(\n",
    "    XGBRFRegressor(), tuned_parameters, cv=my_kfold, n_jobs=-1\n",
    ")\n",
    "\n",
    "XGBRF_params.fit(X_train, y_train)\n",
    "print(XGBRF_params.score(X_test, y_test), XGBRF_params.best_params_)\n",
    "print(str(time() - start) + \" sec\")"
   ]
  },
  {
   "cell_type": "markdown",
   "metadata": {},
   "source": [
    "- choix de max_depth et min_child_weight\n"
   ]
  },
  {
   "cell_type": "code",
   "execution_count": null,
   "metadata": {},
   "outputs": [
    {
     "name": "stdout",
     "output_type": "stream",
     "text": [
      "0.9881470166124114 {'max_depth': 24, 'min_child_weight': 2}\n",
      "192.11008214950562 sec\n"
     ]
    }
   ],
   "source": [
    "start = time()\n",
    "\n",
    "my_kfold = KFold(n_splits=5, shuffle=True, random_state=0)\n",
    "\n",
    "max_depth = [24]\n",
    "min_child_weight = [2]\n",
    "\n",
    "tuned_parameters = {\n",
    "    \"max_depth\": max_depth,\n",
    "    \"min_child_weight\": min_child_weight,\n",
    "}\n",
    "\n",
    "XGBRF_params = GridSearchCV(\n",
    "    XGBRFRegressor(n_estimators=650, learning_rate=1),\n",
    "    tuned_parameters,\n",
    "    cv=my_kfold,\n",
    "    n_jobs=-1,\n",
    ")\n",
    "\n",
    "XGBRF_params.fit(X_train, y_train)\n",
    "print(XGBRF_params.score(X_test, y_test), XGBRF_params.best_params_)\n",
    "print(str(time() - start) + \" sec\")"
   ]
  },
  {
   "cell_type": "markdown",
   "metadata": {},
   "source": [
    "Premier test avec\n",
    "\n",
    "- max_depth = [2, 4, 10, 20]\n",
    "- min_child_weight = [5, 10, 15]\n",
    "\n",
    "On obtient :\n",
    "\n",
    "0.987933888068767 {'max_depth': 20, 'min_child_weight': 5}\n",
    "371.24381494522095 sec\n"
   ]
  },
  {
   "cell_type": "markdown",
   "metadata": {},
   "source": [
    "Deuxième test avec\n"
   ]
  },
  {
   "cell_type": "markdown",
   "metadata": {},
   "source": [
    "Troisième test avec\n"
   ]
  },
  {
   "cell_type": "markdown",
   "metadata": {},
   "source": [
    "On choisit max_depth = 7 et min_child_weight = 8\n"
   ]
  },
  {
   "cell_type": "markdown",
   "metadata": {},
   "source": [
    "- choix de reg_alpha et reg_lambda\n"
   ]
  },
  {
   "cell_type": "code",
   "execution_count": null,
   "metadata": {},
   "outputs": [
    {
     "name": "stdout",
     "output_type": "stream",
     "text": [
      "0.9877853842432953 {'reg_alpha': 0.001, 'reg_lambda': 0.001}\n",
      "82.71706700325012 sec\n"
     ]
    }
   ],
   "source": [
    "start = time()\n",
    "\n",
    "my_kfold = KFold(n_splits=5, shuffle=True, random_state=0)\n",
    "\n",
    "reg_alpha = [0.001, 0.005, 0.01]\n",
    "reg_lambda = [0.001, 0.005, 0.01]\n",
    "\n",
    "tuned_parameters = {\"reg_alpha\": reg_alpha, \"reg_lambda\": reg_lambda}\n",
    "\n",
    "XGBRF_params = GridSearchCV(\n",
    "    XGBRFRegressor(\n",
    "        n_estimators=650, learning_rate=1, max_depth=25, min_child_weight=4\n",
    "    ),\n",
    "    tuned_parameters,\n",
    "    cv=my_kfold,\n",
    "    n_jobs=-1,\n",
    ")\n",
    "\n",
    "XGBRF_params.fit(X_train, y_train)\n",
    "print(XGBRF_params.score(X_test, y_test), XGBRF_params.best_params_)\n",
    "print(str(time() - start) + \" sec\")"
   ]
  },
  {
   "cell_type": "markdown",
   "metadata": {},
   "source": [
    "Premier test avec\n",
    "\n",
    "- reg_alpha = [0.04, 0.08, 0.1, 0.14, 0.15]\n",
    "- reg_lambda = [0.05, 0.07, 0.10, 0.13, 0.15]\n",
    "\n",
    "On obtient :\n",
    "\n",
    "0.983133818285855 {'reg_alpha': 0.04, 'reg_lambda': 0.05}\n",
    "278.0309364795685 sec\n"
   ]
  },
  {
   "cell_type": "markdown",
   "metadata": {},
   "source": [
    "Deuxième test avec\n",
    "\n",
    "- reg_alpha = [0.01, 0.02, 0.04]\n",
    "- reg_lambda = [0.01, 0.03, 0.05]\n",
    "\n",
    "On obtient:\n",
    "0.9865282567140496 {'reg_alpha': 0.01, 'reg_lambda': 0.01}\n",
    "142.79405546188354 sec\n"
   ]
  },
  {
   "cell_type": "markdown",
   "metadata": {},
   "source": [
    "Troisième test avec\n",
    "\n",
    "- reg_alpha = [0.001, 0.005, 0.01]\n",
    "- reg_lambda = [0.001, 0.005, 0.01]\n",
    "\n",
    "  0.9877853842432953 {'reg_alpha': 0.001, 'reg_lambda': 0.001}\n",
    "  272.71706700325012 sec\n"
   ]
  },
  {
   "cell_type": "markdown",
   "metadata": {},
   "source": [
    "On réduit à nouveau pour voir si il est possible d'améliorer le score\n"
   ]
  },
  {
   "cell_type": "markdown",
   "metadata": {},
   "source": [
    "Quatrième test avec\n",
    "\n",
    "- reg_alpha = [0.0001, 0.0005, 0.001]\n",
    "- reg_lambda = [0.0001, 0.0005, 0.001]\n",
    "\n",
    "  0.9878969094548209 {'reg_alpha': 0.0001, 'reg_lambda': 0.0001}\n",
    "  270.20020604133606 sec\n"
   ]
  },
  {
   "cell_type": "markdown",
   "metadata": {},
   "source": [
    "Ca ne sert à rien de continuer l'amélioration est mineure\n"
   ]
  },
  {
   "cell_type": "markdown",
   "metadata": {},
   "source": [
    "##### Test finaux\n"
   ]
  },
  {
   "cell_type": "code",
   "execution_count": null,
   "metadata": {},
   "outputs": [
    {
     "data": {
      "text/plain": [
       "0.98797022454064"
      ]
     },
     "execution_count": 20,
     "metadata": {},
     "output_type": "execute_result"
    }
   ],
   "source": [
    "XGBRF1 = XGBRFRegressor(\n",
    "    n_estimators=650,\n",
    "    learning_rate=1,\n",
    "    max_depth=25,\n",
    "    min_child_weight=3,\n",
    "    reg_alpha=0.001,\n",
    "    reg_lambda=0.001,\n",
    ")\n",
    "XGBRF1.fit(X_train, y_train)\n",
    "XGBRF1.score(X_test, y_test)"
   ]
  },
  {
   "cell_type": "code",
   "execution_count": null,
   "metadata": {},
   "outputs": [
    {
     "data": {
      "text/plain": [
       "0.9879740055922637"
      ]
     },
     "execution_count": 22,
     "metadata": {},
     "output_type": "execute_result"
    }
   ],
   "source": [
    "XGBRF2 = XGBRFRegressor(\n",
    "    n_estimators=750,\n",
    "    learning_rate=1,\n",
    "    max_depth=25,\n",
    "    min_child_weight=3,\n",
    "    reg_alpha=0.001,\n",
    "    reg_lambda=0.001,\n",
    ")\n",
    "XGBRF2.fit(X_train, y_train)\n",
    "XGBRF2.score(X_test, y_test)"
   ]
  }
 ],
 "metadata": {
  "kernelspec": {
   "display_name": "STASC",
   "language": "python",
   "name": "python3"
  },
  "language_info": {
   "codemirror_mode": {
    "name": "ipython",
    "version": 3
   },
   "file_extension": ".py",
   "mimetype": "text/x-python",
   "name": "python",
   "nbconvert_exporter": "python",
   "pygments_lexer": "ipython3",
   "version": "3.11.6"
  }
 },
 "nbformat": 4,
 "nbformat_minor": 2
}
