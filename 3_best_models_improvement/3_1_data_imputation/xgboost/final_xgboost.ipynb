{
 "cells": [
  {
   "cell_type": "code",
   "execution_count": 2,
   "metadata": {},
   "outputs": [],
   "source": [
    "import pandas as pd\n",
    "import numpy as np"
   ]
  },
  {
   "cell_type": "markdown",
   "metadata": {},
   "source": [
    "# XGBRegressor - NaN en zéros - 2023/11/19\n"
   ]
  },
  {
   "cell_type": "markdown",
   "metadata": {},
   "source": [
    "- Import des données\n"
   ]
  },
  {
   "cell_type": "code",
   "execution_count": 2,
   "metadata": {},
   "outputs": [],
   "source": [
    "path = \"../../../data\"\n",
    "x_data = pd.read_csv(path + \"/Xtrain_hgcGIrA.csv\", sep=\",\")  # features\n",
    "y_data = pd.read_csv(\n",
    "    path + \"/Ytrain_yL5OjS4.csv\", sep=\",\", usecols=[1]\n",
    ")  # occupancy rate\n",
    "x_predict = pd.read_csv(\n",
    "    path + \"/Xtest.csv\", sep=\",\"\n",
    ")  # features pour la prédiction"
   ]
  },
  {
   "cell_type": "markdown",
   "metadata": {},
   "source": [
    "- Mise en forme de x_data\n"
   ]
  },
  {
   "cell_type": "code",
   "execution_count": 3,
   "metadata": {},
   "outputs": [],
   "source": [
    "x_data = x_data.drop(\"date\", axis=1)  # on supprime la colonne date\n",
    "x_data = x_data.drop(\"way\", axis=1) #  on supprime la colonne way\n",
    "x_data[\"hour\"] = x_data[\"hour\"].apply(\n",
    "    lambda x: 0 if type(x) == float else int(x[:2])\n",
    ") # on remplace les Nan de hour par des 0 et les heures par des entiers\n",
    "\n",
    "#on remplace les Nan des pxqx par 0\n",
    "x_data[[\"p1q0\", \"p2q0\", \"p3q0\", \"p0q1\", \"p0q2\", \"p0q3\"]] = x_data[[\"p1q0\", \"p2q0\", \"p3q0\", \"p0q1\", \"p0q2\", \"p0q3\"]].fillna(0)\n",
    "\n",
    "# on tranforme les identifiants de gare en entiers\n",
    "x_data[\"station\"] = x_data[\"station\"].astype(\"category\")\n",
    "cat_columns = x_data.select_dtypes([\"category\"]).columns\n",
    "x_data[cat_columns] = x_data[cat_columns].apply(lambda x: x.cat.codes)"
   ]
  },
  {
   "cell_type": "markdown",
   "metadata": {},
   "source": [
    "- Mise en forme de x_predict\n"
   ]
  },
  {
   "cell_type": "code",
   "execution_count": 4,
   "metadata": {},
   "outputs": [],
   "source": [
    "x_predict = x_predict.drop(\"date\", axis=1)  # on supprime la colonne date\n",
    "x_predict = x_predict.drop(\"way\", axis=1) #  on supprime la colonne way\n",
    "x_predict[\"hour\"] = x_predict[\"hour\"].apply(\n",
    "    lambda x: 0 if type(x) == float else int(x[:2])\n",
    ") # on remplace les Nan de hour par des 0 et les heures par des entiers\n",
    "\n",
    "#on remplace les Nan des pxqx par 0\n",
    "x_predict[[\"p1q0\", \"p2q0\", \"p3q0\", \"p0q1\", \"p0q2\", \"p0q3\"]] = x_predict[[\"p1q0\", \"p2q0\", \"p3q0\", \"p0q1\", \"p0q2\", \"p0q3\"]].fillna(0)\n",
    "\n",
    "# on tranforme les identifiants de gare en entiers\n",
    "x_predict[\"station\"] = x_predict[\"station\"].astype(\"category\")\n",
    "cat_columns = x_predict.select_dtypes([\"category\"]).columns\n",
    "x_predict[cat_columns] = x_predict[cat_columns].apply(lambda x: x.cat.codes)"
   ]
  },
  {
   "cell_type": "markdown",
   "metadata": {},
   "source": [
    "- Apprentissage du modèle retenu"
   ]
  },
  {
   "cell_type": "code",
   "execution_count": 5,
   "metadata": {},
   "outputs": [],
   "source": [
    "from xgboost import XGBRegressor"
   ]
  },
  {
   "cell_type": "code",
   "execution_count": 6,
   "metadata": {},
   "outputs": [
    {
     "name": "stderr",
     "output_type": "stream",
     "text": [
      "/home/mcoutier/miniconda3/envs/STASC/lib/python3.10/site-packages/xgboost/data.py:299: FutureWarning: is_sparse is deprecated and will be removed in a future version. Check `isinstance(dtype, pd.SparseDtype)` instead.\n",
      "  if is_sparse(dtype):\n",
      "/home/mcoutier/miniconda3/envs/STASC/lib/python3.10/site-packages/xgboost/data.py:301: FutureWarning: is_categorical_dtype is deprecated and will be removed in a future version. Use isinstance(dtype, CategoricalDtype) instead\n",
      "  elif is_categorical_dtype(dtype) and enable_categorical:\n",
      "/home/mcoutier/miniconda3/envs/STASC/lib/python3.10/site-packages/xgboost/data.py:332: FutureWarning: is_categorical_dtype is deprecated and will be removed in a future version. Use isinstance(dtype, CategoricalDtype) instead\n",
      "  if is_categorical_dtype(dtype)\n",
      "/home/mcoutier/miniconda3/envs/STASC/lib/python3.10/site-packages/xgboost/data.py:323: FutureWarning: is_categorical_dtype is deprecated and will be removed in a future version. Use isinstance(dtype, CategoricalDtype) instead\n",
      "  return is_int or is_bool or is_float or is_categorical_dtype(dtype)\n",
      "/home/mcoutier/miniconda3/envs/STASC/lib/python3.10/site-packages/xgboost/data.py:332: FutureWarning: is_categorical_dtype is deprecated and will be removed in a future version. Use isinstance(dtype, CategoricalDtype) instead\n",
      "  if is_categorical_dtype(dtype)\n",
      "/home/mcoutier/miniconda3/envs/STASC/lib/python3.10/site-packages/xgboost/data.py:323: FutureWarning: is_categorical_dtype is deprecated and will be removed in a future version. Use isinstance(dtype, CategoricalDtype) instead\n",
      "  return is_int or is_bool or is_float or is_categorical_dtype(dtype)\n",
      "/home/mcoutier/miniconda3/envs/STASC/lib/python3.10/site-packages/xgboost/data.py:299: FutureWarning: is_sparse is deprecated and will be removed in a future version. Check `isinstance(dtype, pd.SparseDtype)` instead.\n",
      "  if is_sparse(dtype):\n",
      "/home/mcoutier/miniconda3/envs/STASC/lib/python3.10/site-packages/xgboost/data.py:301: FutureWarning: is_categorical_dtype is deprecated and will be removed in a future version. Use isinstance(dtype, CategoricalDtype) instead\n",
      "  elif is_categorical_dtype(dtype) and enable_categorical:\n",
      "/home/mcoutier/miniconda3/envs/STASC/lib/python3.10/site-packages/xgboost/data.py:332: FutureWarning: is_categorical_dtype is deprecated and will be removed in a future version. Use isinstance(dtype, CategoricalDtype) instead\n",
      "  if is_categorical_dtype(dtype)\n",
      "/home/mcoutier/miniconda3/envs/STASC/lib/python3.10/site-packages/xgboost/data.py:323: FutureWarning: is_categorical_dtype is deprecated and will be removed in a future version. Use isinstance(dtype, CategoricalDtype) instead\n",
      "  return is_int or is_bool or is_float or is_categorical_dtype(dtype)\n"
     ]
    },
    {
     "data": {
      "text/plain": [
       "0.9964187419492565"
      ]
     },
     "execution_count": 6,
     "metadata": {},
     "output_type": "execute_result"
    }
   ],
   "source": [
    "XGBR3 = XGBRegressor( \n",
    "        n_estimators = 4000,learning_rate = 0.02,\n",
    "        max_depth=6, min_child_weight=1, \n",
    "        gamma = 0.0001, colsample_bytree=1, subsample=0.8714285714285714,\n",
    "        reg_alpha = 0.08071428571428571, reg_lambda= 0.15142857142857144\n",
    "    )\n",
    "XGBR3.fit(x_data, y_data)\n",
    "XGBR3.score(x_data, y_data)"
   ]
  },
  {
   "cell_type": "markdown",
   "metadata": {},
   "source": [
    "- Prédiction et export\n"
   ]
  },
  {
   "cell_type": "code",
   "execution_count": 7,
   "metadata": {},
   "outputs": [],
   "source": [
    "y_predict = XGBR3.predict(x_predict.values)"
   ]
  },
  {
   "cell_type": "code",
   "execution_count": 9,
   "metadata": {},
   "outputs": [],
   "source": [
    "from export import export_to_csv\n",
    "\n",
    "export_to_csv(y_predict, \"xgbregressor_nan_zeros_23_11_20\")"
   ]
  },
  {
   "cell_type": "markdown",
   "metadata": {},
   "source": [
    "# XGBRegressor - NaN en mean - 2023/11/21"
   ]
  },
  {
   "cell_type": "code",
   "execution_count": 18,
   "metadata": {},
   "outputs": [],
   "source": [
    "path = \"../../../data\"\n",
    "x_data = pd.read_csv(path + \"/Xtrain_hgcGIrA.csv\", sep=\",\")  # features\n",
    "y_data = pd.read_csv(\n",
    "    path + \"/Ytrain_yL5OjS4.csv\", sep=\",\", usecols=[1]\n",
    ")  # occupancy rate\n",
    "x_predict = pd.read_csv(\n",
    "    path + \"/Xtest.csv\", sep=\",\"\n",
    ")  # features pour la prédiction"
   ]
  },
  {
   "cell_type": "markdown",
   "metadata": {},
   "source": [
    "- Mise en forme de x_data"
   ]
  },
  {
   "cell_type": "code",
   "execution_count": 19,
   "metadata": {},
   "outputs": [],
   "source": [
    "x_data = x_data.drop(\"date\", axis=1)  # on supprime la colonne date\n",
    "x_data = x_data.drop(\"way\", axis=1) #  on supprime la colonne way\n",
    "x_data[\"hour\"] = x_data[\"hour\"].apply(\n",
    "    lambda x: np.nan if type(x) == float else int(x[:2])\n",
    ") # on remplace les heures par des entiers en conservant les NaNs\n",
    "\n",
    "# on tranforme les identifiants de gare en entiers\n",
    "x_data[\"station\"] = x_data[\"station\"].astype(\"category\")\n",
    "cat_columns = x_data.select_dtypes([\"category\"]).columns\n",
    "x_data[cat_columns] = x_data[cat_columns].apply(lambda x: x.cat.codes)"
   ]
  },
  {
   "cell_type": "markdown",
   "metadata": {},
   "source": [
    "- Remplacement des NaNs de x_data"
   ]
  },
  {
   "cell_type": "code",
   "execution_count": 20,
   "metadata": {},
   "outputs": [],
   "source": [
    "from sklearn.impute import SimpleImputer\n",
    "SIM = SimpleImputer(missing_values=np.nan, strategy='mean', add_indicator=True)\n",
    "SIMF = SimpleImputer(missing_values=np.nan, strategy='most_frequent', add_indicator=True) # pour les heures"
   ]
  },
  {
   "cell_type": "code",
   "execution_count": 21,
   "metadata": {},
   "outputs": [],
   "source": [
    "x_data_full = SIM.fit_transform(x_data[['train', 'station', 'composition', 'p1q0', 'p2q0', 'p3q0', 'p0q1', 'p0q2', 'p0q3']])\n",
    "x_data_full = np.append(x_data_full, SIMF.fit_transform(x_data['hour'].to_numpy().reshape(-1, 1)), axis = 1)"
   ]
  },
  {
   "cell_type": "markdown",
   "metadata": {},
   "source": [
    "- Mise en forme de x_predict"
   ]
  },
  {
   "cell_type": "code",
   "execution_count": 22,
   "metadata": {},
   "outputs": [],
   "source": [
    "x_predict = x_predict.drop(\"date\", axis=1)  # on supprime la colonne date\n",
    "x_predict = x_predict.drop(\"way\", axis=1) #  on supprime la colonne way\n",
    "x_predict[\"hour\"] = x_predict[\"hour\"].apply(\n",
    "    lambda x: np.nan if type(x) == float else int(x[:2])\n",
    ") # on remplace les heures par des entiers en conservant les NaNs\n",
    "\n",
    "# on tranforme les identifiants de gare en entiers\n",
    "x_predict[\"station\"] = x_predict[\"station\"].astype(\"category\")\n",
    "cat_columns = x_predict.select_dtypes([\"category\"]).columns\n",
    "x_predict[cat_columns] = x_predict[cat_columns].apply(lambda x: x.cat.codes)"
   ]
  },
  {
   "cell_type": "markdown",
   "metadata": {},
   "source": [
    "- Remplacenent des NaNs de x_predict"
   ]
  },
  {
   "cell_type": "code",
   "execution_count": 23,
   "metadata": {},
   "outputs": [],
   "source": [
    "x_predict_full = SIM.fit_transform(x_predict[['train', 'station', 'composition', 'p1q0', 'p2q0', 'p3q0', 'p0q1', 'p0q2', 'p0q3']])\n",
    "x_predict_full = np.append(x_predict_full, SIMF.fit_transform(x_predict['hour'].to_numpy().reshape(-1, 1)), axis = 1)"
   ]
  },
  {
   "cell_type": "markdown",
   "metadata": {},
   "source": [
    "- Apprentissage du modèle retenu"
   ]
  },
  {
   "cell_type": "code",
   "execution_count": 24,
   "metadata": {},
   "outputs": [],
   "source": [
    "from xgboost import XGBRegressor"
   ]
  },
  {
   "cell_type": "code",
   "execution_count": 25,
   "metadata": {},
   "outputs": [
    {
     "name": "stderr",
     "output_type": "stream",
     "text": [
      "/home/mcoutier/miniconda3/envs/STASC/lib/python3.10/site-packages/xgboost/data.py:332: FutureWarning: is_categorical_dtype is deprecated and will be removed in a future version. Use isinstance(dtype, CategoricalDtype) instead\n",
      "  if is_categorical_dtype(dtype)\n",
      "/home/mcoutier/miniconda3/envs/STASC/lib/python3.10/site-packages/xgboost/data.py:323: FutureWarning: is_categorical_dtype is deprecated and will be removed in a future version. Use isinstance(dtype, CategoricalDtype) instead\n",
      "  return is_int or is_bool or is_float or is_categorical_dtype(dtype)\n"
     ]
    },
    {
     "data": {
      "text/plain": [
       "0.9964618670756457"
      ]
     },
     "execution_count": 25,
     "metadata": {},
     "output_type": "execute_result"
    }
   ],
   "source": [
    "XGBR = XGBRegressor( \n",
    "        learning_rate= 0.024999999999999998, n_estimators= 2250,\n",
    "        max_depth=8, min_child_weight=5, gamma = 0.0001, colsample_bytree=1, subsample=0.8666666666666667,\n",
    "        reg_alpha= 0.13333333333333333, reg_lambda= 0.8222222222222222\n",
    "    )\n",
    "XGBR.fit(x_data_full, y_data)\n",
    "XGBR.score(x_data_full, y_data)"
   ]
  },
  {
   "cell_type": "markdown",
   "metadata": {},
   "source": [
    "- Prédiction et export"
   ]
  },
  {
   "cell_type": "code",
   "execution_count": 26,
   "metadata": {},
   "outputs": [],
   "source": [
    "y_predict_full = XGBR.predict(x_predict_full)"
   ]
  },
  {
   "cell_type": "code",
   "execution_count": 27,
   "metadata": {},
   "outputs": [],
   "source": [
    "from export import export_to_csv\n",
    "\n",
    "export_to_csv(y_predict_full, \"xgbregressor_nan_mean_23_11_21\")"
   ]
  },
  {
   "cell_type": "markdown",
   "metadata": {},
   "source": [
    "# XGBRegressor - NaN avec KNN - 2023/11/22"
   ]
  },
  {
   "cell_type": "code",
   "execution_count": 3,
   "metadata": {},
   "outputs": [],
   "source": [
    "path = \"../../../data\"\n",
    "x_data = pd.read_csv(path + \"/Xtrain_hgcGIrA.csv\", sep=\",\")  # features\n",
    "y_data = pd.read_csv(\n",
    "    path + \"/Ytrain_yL5OjS4.csv\", sep=\",\", usecols=[1]\n",
    ")  # occupancy rate\n",
    "x_predict = pd.read_csv(\n",
    "    path + \"/Xtest.csv\", sep=\",\"\n",
    ")  # features pour la prédiction"
   ]
  },
  {
   "cell_type": "markdown",
   "metadata": {},
   "source": [
    "- Mise en forme de x_data"
   ]
  },
  {
   "cell_type": "code",
   "execution_count": 4,
   "metadata": {},
   "outputs": [],
   "source": [
    "x_data = x_data.drop(\"date\", axis=1)  # on supprime la colonne date\n",
    "x_data = x_data.drop(\"way\", axis=1) #  on supprime la colonne way\n",
    "x_data[\"hour\"] = x_data[\"hour\"].apply(\n",
    "    lambda x: 0 if type(x) == float else int(x[:2])\n",
    ") # on remplace les heures par des entiers et les Nans en 0\n",
    "\n",
    "# on tranforme les identifiants de gare en entiers\n",
    "x_data[\"station\"] = x_data[\"station\"].astype(\"category\")\n",
    "cat_columns = x_data.select_dtypes([\"category\"]).columns\n",
    "x_data[cat_columns] = x_data[cat_columns].apply(lambda x: x.cat.codes)"
   ]
  },
  {
   "cell_type": "markdown",
   "metadata": {},
   "source": [
    "- Remplacement des NaNs de x_data"
   ]
  },
  {
   "cell_type": "code",
   "execution_count": 5,
   "metadata": {},
   "outputs": [],
   "source": [
    "from sklearn.impute import KNNImputer\n",
    "KNNI = KNNImputer(missing_values=np.nan, add_indicator=True)\n",
    "x_data_full = KNNI.fit_transform(x_data)"
   ]
  },
  {
   "cell_type": "markdown",
   "metadata": {},
   "source": [
    "- Mise en forme de x_predict"
   ]
  },
  {
   "cell_type": "code",
   "execution_count": 6,
   "metadata": {},
   "outputs": [],
   "source": [
    "x_predict = x_predict.drop(\"date\", axis=1)  # on supprime la colonne date\n",
    "x_predict = x_predict.drop(\"way\", axis=1) #  on supprime la colonne way\n",
    "x_predict[\"hour\"] = x_predict[\"hour\"].apply(\n",
    "    lambda x: 0 if type(x) == float else int(x[:2])\n",
    ") # on remplace les heures par des entiers et les Nans par zéro\n",
    "\n",
    "# on tranforme les identifiants de gare en entiers\n",
    "x_predict[\"station\"] = x_predict[\"station\"].astype(\"category\")\n",
    "cat_columns = x_predict.select_dtypes([\"category\"]).columns\n",
    "x_predict[cat_columns] = x_predict[cat_columns].apply(lambda x: x.cat.codes)"
   ]
  },
  {
   "cell_type": "markdown",
   "metadata": {},
   "source": [
    "- Remplacenent des NaNs de x_predict"
   ]
  },
  {
   "cell_type": "code",
   "execution_count": 7,
   "metadata": {},
   "outputs": [],
   "source": [
    "x_predict_full = KNNI.fit_transform(x_predict)"
   ]
  },
  {
   "cell_type": "markdown",
   "metadata": {},
   "source": [
    "- Apprentissage du modèle retenu"
   ]
  },
  {
   "cell_type": "code",
   "execution_count": 8,
   "metadata": {},
   "outputs": [],
   "source": [
    "from xgboost import XGBRegressor"
   ]
  },
  {
   "cell_type": "code",
   "execution_count": 18,
   "metadata": {},
   "outputs": [
    {
     "name": "stderr",
     "output_type": "stream",
     "text": [
      "/home/mcoutier/miniconda3/envs/STASC/lib/python3.10/site-packages/xgboost/data.py:332: FutureWarning: is_categorical_dtype is deprecated and will be removed in a future version. Use isinstance(dtype, CategoricalDtype) instead\n",
      "  if is_categorical_dtype(dtype)\n",
      "/home/mcoutier/miniconda3/envs/STASC/lib/python3.10/site-packages/xgboost/data.py:323: FutureWarning: is_categorical_dtype is deprecated and will be removed in a future version. Use isinstance(dtype, CategoricalDtype) instead\n",
      "  return is_int or is_bool or is_float or is_categorical_dtype(dtype)\n"
     ]
    },
    {
     "data": {
      "text/plain": [
       "0.9949103657693115"
      ]
     },
     "execution_count": 18,
     "metadata": {},
     "output_type": "execute_result"
    }
   ],
   "source": [
    "XGBR = XGBRegressor( \n",
    "        learning_rate= 0.02, n_estimators= 3760,\n",
    "        max_depth=6, min_child_weight=4.333333333333333, gamma= 8.53061224489796e-05,\n",
    "        colsample_bytree=1, subsample=1,\n",
    "        reg_alpha= 0.15263157894736842, reg_lambda= 0.08105263157894738\n",
    "    )\n",
    "XGBR.fit(x_data_full, y_data)\n",
    "XGBR.score(x_data_full, y_data)"
   ]
  },
  {
   "cell_type": "markdown",
   "metadata": {},
   "source": [
    "- Prédiction et export"
   ]
  },
  {
   "cell_type": "code",
   "execution_count": 19,
   "metadata": {},
   "outputs": [],
   "source": [
    "y_predict_full = XGBR.predict(x_predict_full)"
   ]
  },
  {
   "cell_type": "code",
   "execution_count": 20,
   "metadata": {},
   "outputs": [],
   "source": [
    "from export import export_to_csv\n",
    "\n",
    "export_to_csv(y_predict_full, \"xgbregressor_nan_knn_23_11_22\")"
   ]
  },
  {
   "cell_type": "markdown",
   "metadata": {},
   "source": [
    "- Par curiosité, on exporte aussi une prédiction sur un xgbregressor avec tous ses paramètres par défaut"
   ]
  },
  {
   "cell_type": "code",
   "execution_count": 9,
   "metadata": {},
   "outputs": [
    {
     "name": "stderr",
     "output_type": "stream",
     "text": [
      "/home/mcoutier/miniconda3/envs/STASC/lib/python3.10/site-packages/xgboost/data.py:332: FutureWarning: is_categorical_dtype is deprecated and will be removed in a future version. Use isinstance(dtype, CategoricalDtype) instead\n",
      "  if is_categorical_dtype(dtype)\n",
      "/home/mcoutier/miniconda3/envs/STASC/lib/python3.10/site-packages/xgboost/data.py:323: FutureWarning: is_categorical_dtype is deprecated and will be removed in a future version. Use isinstance(dtype, CategoricalDtype) instead\n",
      "  return is_int or is_bool or is_float or is_categorical_dtype(dtype)\n"
     ]
    },
    {
     "name": "stdout",
     "output_type": "stream",
     "text": [
      "0.9926941455341106\n"
     ]
    }
   ],
   "source": [
    "from export import export_to_csv\n",
    "XGBR = XGBRegressor()\n",
    "XGBR.fit(x_data_full, y_data)\n",
    "print(XGBR.score(x_data_full, y_data))\n",
    "y_predict_full = XGBR.predict(x_predict_full)\n",
    "\n",
    "export_to_csv(y_predict_full, \"xgbregressor_nan_knn_v2_23_11_22\")"
   ]
  }
 ],
 "metadata": {
  "kernelspec": {
   "display_name": "STASC",
   "language": "python",
   "name": "python3"
  },
  "language_info": {
   "codemirror_mode": {
    "name": "ipython",
    "version": 3
   },
   "file_extension": ".py",
   "mimetype": "text/x-python",
   "name": "python",
   "nbconvert_exporter": "python",
   "pygments_lexer": "ipython3",
   "version": "3.10.6"
  }
 },
 "nbformat": 4,
 "nbformat_minor": 2
}
