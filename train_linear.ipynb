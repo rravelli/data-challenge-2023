{
 "cells": [
  {
   "cell_type": "code",
   "execution_count": 267,
   "metadata": {},
   "outputs": [],
   "source": [
    "import pandas as pd\n",
    "from sklearn.model_selection import train_test_split\n",
    "from datetime import datetime"
   ]
  },
  {
   "cell_type": "markdown",
   "metadata": {},
   "source": [
    "## 1ere hypothèse\n",
    "\n",
    "- On supprime les colonnes NAN des heures\n",
    "- On supprime la colonne date\n",
    "- On remplace les NAN restants par des 0\n"
   ]
  },
  {
   "cell_type": "code",
   "execution_count": 268,
   "metadata": {},
   "outputs": [],
   "source": [
    "path = \"./data\"\n",
    "x_data = pd.read_csv(path + \"/Xtrain_hgcGIrA.csv\", sep=\",\")\n",
    "x_data[\"station\"] = x_data[\"station\"].astype(\"category\")\n",
    "x_data = x_data.drop(\"date\", axis=1)\n",
    "y_data = pd.read_csv(\n",
    "    path + \"/Ytrain_yL5OjS4.csv\", sep=\",\", usecols=[1]\n",
    ")  # occupancy rate\n",
    "prev_len = len(x_data)"
   ]
  },
  {
   "cell_type": "code",
   "execution_count": 269,
   "metadata": {},
   "outputs": [
    {
     "name": "stdout",
     "output_type": "stream",
     "text": [
      "Retire 10% des données\n"
     ]
    }
   ],
   "source": [
    "x_data.dropna(subset=[\"hour\"], inplace=True)\n",
    "print(f\"Retire {int((prev_len - len(x_data)) / prev_len*100)}% des données\")"
   ]
  },
  {
   "cell_type": "code",
   "execution_count": 270,
   "metadata": {},
   "outputs": [
    {
     "data": {
      "text/html": [
       "<div>\n",
       "<style scoped>\n",
       "    .dataframe tbody tr th:only-of-type {\n",
       "        vertical-align: middle;\n",
       "    }\n",
       "\n",
       "    .dataframe tbody tr th {\n",
       "        vertical-align: top;\n",
       "    }\n",
       "\n",
       "    .dataframe thead th {\n",
       "        text-align: right;\n",
       "    }\n",
       "</style>\n",
       "<table border=\"1\" class=\"dataframe\">\n",
       "  <thead>\n",
       "    <tr style=\"text-align: right;\">\n",
       "      <th></th>\n",
       "      <th>train</th>\n",
       "      <th>way</th>\n",
       "      <th>station</th>\n",
       "      <th>hour</th>\n",
       "      <th>composition</th>\n",
       "      <th>p1q0</th>\n",
       "      <th>p2q0</th>\n",
       "      <th>p3q0</th>\n",
       "      <th>p0q1</th>\n",
       "      <th>p0q2</th>\n",
       "      <th>p0q3</th>\n",
       "    </tr>\n",
       "  </thead>\n",
       "  <tbody>\n",
       "    <tr>\n",
       "      <th>0</th>\n",
       "      <td>1</td>\n",
       "      <td>0</td>\n",
       "      <td>AD</td>\n",
       "      <td>06:00:00</td>\n",
       "      <td>2</td>\n",
       "      <td>0.000</td>\n",
       "      <td>0.00000</td>\n",
       "      <td>0.000000</td>\n",
       "      <td>0.201</td>\n",
       "      <td>0.138</td>\n",
       "      <td>0.091</td>\n",
       "    </tr>\n",
       "    <tr>\n",
       "      <th>1</th>\n",
       "      <td>1</td>\n",
       "      <td>0</td>\n",
       "      <td>AD</td>\n",
       "      <td>06:00:00</td>\n",
       "      <td>2</td>\n",
       "      <td>0.000</td>\n",
       "      <td>0.00000</td>\n",
       "      <td>0.000000</td>\n",
       "      <td>0.204</td>\n",
       "      <td>0.152</td>\n",
       "      <td>0.106</td>\n",
       "    </tr>\n",
       "    <tr>\n",
       "      <th>2</th>\n",
       "      <td>1</td>\n",
       "      <td>0</td>\n",
       "      <td>AD</td>\n",
       "      <td>06:00:00</td>\n",
       "      <td>2</td>\n",
       "      <td>0.000</td>\n",
       "      <td>0.00000</td>\n",
       "      <td>0.000000</td>\n",
       "      <td>0.213</td>\n",
       "      <td>0.153</td>\n",
       "      <td>0.111</td>\n",
       "    </tr>\n",
       "    <tr>\n",
       "      <th>3</th>\n",
       "      <td>1</td>\n",
       "      <td>0</td>\n",
       "      <td>AD</td>\n",
       "      <td>06:00:00</td>\n",
       "      <td>2</td>\n",
       "      <td>0.000</td>\n",
       "      <td>0.00000</td>\n",
       "      <td>0.000000</td>\n",
       "      <td>0.213</td>\n",
       "      <td>0.152</td>\n",
       "      <td>0.108</td>\n",
       "    </tr>\n",
       "    <tr>\n",
       "      <th>4</th>\n",
       "      <td>1</td>\n",
       "      <td>0</td>\n",
       "      <td>AD</td>\n",
       "      <td>06:00:00</td>\n",
       "      <td>2</td>\n",
       "      <td>0.000</td>\n",
       "      <td>0.00000</td>\n",
       "      <td>0.000000</td>\n",
       "      <td>0.210</td>\n",
       "      <td>0.147</td>\n",
       "      <td>0.096</td>\n",
       "    </tr>\n",
       "    <tr>\n",
       "      <th>...</th>\n",
       "      <td>...</td>\n",
       "      <td>...</td>\n",
       "      <td>...</td>\n",
       "      <td>...</td>\n",
       "      <td>...</td>\n",
       "      <td>...</td>\n",
       "      <td>...</td>\n",
       "      <td>...</td>\n",
       "      <td>...</td>\n",
       "      <td>...</td>\n",
       "      <td>...</td>\n",
       "    </tr>\n",
       "    <tr>\n",
       "      <th>31114</th>\n",
       "      <td>9</td>\n",
       "      <td>0</td>\n",
       "      <td>BE</td>\n",
       "      <td>08:00:00</td>\n",
       "      <td>2</td>\n",
       "      <td>0.152</td>\n",
       "      <td>0.18860</td>\n",
       "      <td>0.157000</td>\n",
       "      <td>0.080</td>\n",
       "      <td>0.100</td>\n",
       "      <td>0.000</td>\n",
       "    </tr>\n",
       "    <tr>\n",
       "      <th>31115</th>\n",
       "      <td>9</td>\n",
       "      <td>0</td>\n",
       "      <td>BE</td>\n",
       "      <td>08:00:00</td>\n",
       "      <td>2</td>\n",
       "      <td>0.153</td>\n",
       "      <td>0.18040</td>\n",
       "      <td>0.191000</td>\n",
       "      <td>0.089</td>\n",
       "      <td>0.121</td>\n",
       "      <td>0.000</td>\n",
       "    </tr>\n",
       "    <tr>\n",
       "      <th>31116</th>\n",
       "      <td>9</td>\n",
       "      <td>0</td>\n",
       "      <td>BE</td>\n",
       "      <td>08:00:00</td>\n",
       "      <td>2</td>\n",
       "      <td>0.166</td>\n",
       "      <td>0.14900</td>\n",
       "      <td>0.168000</td>\n",
       "      <td>0.099</td>\n",
       "      <td>0.129</td>\n",
       "      <td>0.000</td>\n",
       "    </tr>\n",
       "    <tr>\n",
       "      <th>31117</th>\n",
       "      <td>9</td>\n",
       "      <td>0</td>\n",
       "      <td>BE</td>\n",
       "      <td>08:00:00</td>\n",
       "      <td>2</td>\n",
       "      <td>0.182</td>\n",
       "      <td>0.19300</td>\n",
       "      <td>0.162000</td>\n",
       "      <td>0.074</td>\n",
       "      <td>0.101</td>\n",
       "      <td>0.000</td>\n",
       "    </tr>\n",
       "    <tr>\n",
       "      <th>31118</th>\n",
       "      <td>9</td>\n",
       "      <td>0</td>\n",
       "      <td>BE</td>\n",
       "      <td>08:00:00</td>\n",
       "      <td>1</td>\n",
       "      <td>0.173</td>\n",
       "      <td>0.16928</td>\n",
       "      <td>0.187717</td>\n",
       "      <td>0.289</td>\n",
       "      <td>0.354</td>\n",
       "      <td>0.000</td>\n",
       "    </tr>\n",
       "  </tbody>\n",
       "</table>\n",
       "<p>27915 rows × 11 columns</p>\n",
       "</div>"
      ],
      "text/plain": [
       "       train  way station      hour  composition   p1q0     p2q0      p3q0  \\\n",
       "0          1    0      AD  06:00:00            2  0.000  0.00000  0.000000   \n",
       "1          1    0      AD  06:00:00            2  0.000  0.00000  0.000000   \n",
       "2          1    0      AD  06:00:00            2  0.000  0.00000  0.000000   \n",
       "3          1    0      AD  06:00:00            2  0.000  0.00000  0.000000   \n",
       "4          1    0      AD  06:00:00            2  0.000  0.00000  0.000000   \n",
       "...      ...  ...     ...       ...          ...    ...      ...       ...   \n",
       "31114      9    0      BE  08:00:00            2  0.152  0.18860  0.157000   \n",
       "31115      9    0      BE  08:00:00            2  0.153  0.18040  0.191000   \n",
       "31116      9    0      BE  08:00:00            2  0.166  0.14900  0.168000   \n",
       "31117      9    0      BE  08:00:00            2  0.182  0.19300  0.162000   \n",
       "31118      9    0      BE  08:00:00            1  0.173  0.16928  0.187717   \n",
       "\n",
       "        p0q1   p0q2   p0q3  \n",
       "0      0.201  0.138  0.091  \n",
       "1      0.204  0.152  0.106  \n",
       "2      0.213  0.153  0.111  \n",
       "3      0.213  0.152  0.108  \n",
       "4      0.210  0.147  0.096  \n",
       "...      ...    ...    ...  \n",
       "31114  0.080  0.100  0.000  \n",
       "31115  0.089  0.121  0.000  \n",
       "31116  0.099  0.129  0.000  \n",
       "31117  0.074  0.101  0.000  \n",
       "31118  0.289  0.354  0.000  \n",
       "\n",
       "[27915 rows x 11 columns]"
      ]
     },
     "execution_count": 270,
     "metadata": {},
     "output_type": "execute_result"
    }
   ],
   "source": [
    "x_data[[\"p1q0\", \"p2q0\", \"p3q0\", \"p0q1\", \"p0q2\", \"p0q3\"]] = x_data[\n",
    "    [\"p1q0\", \"p2q0\", \"p3q0\", \"p0q1\", \"p0q2\", \"p0q3\"]\n",
    "].fillna(0)\n",
    "x_data"
   ]
  },
  {
   "cell_type": "code",
   "execution_count": 271,
   "metadata": {},
   "outputs": [],
   "source": [
    "# convert to int\n",
    "x_data[\"hour\"] = x_data[\"hour\"].apply(lambda x: int(x[:2]))\n",
    "# x_data[\"date\"] = x_data[\"date\"].apply(\n",
    "#     lambda x: datetime.fromisoformat(x).timestamp()\n",
    "# ) # convert to timestamp\n",
    "cat_columns = x_data.select_dtypes([\"category\"]).columns\n",
    "x_data[cat_columns] = x_data[cat_columns].apply(lambda x: x.cat.codes)"
   ]
  },
  {
   "cell_type": "code",
   "execution_count": 272,
   "metadata": {},
   "outputs": [
    {
     "data": {
      "text/plain": [
       "train            int64\n",
       "way              int64\n",
       "station           int8\n",
       "hour             int64\n",
       "composition      int64\n",
       "p1q0           float64\n",
       "p2q0           float64\n",
       "p3q0           float64\n",
       "p0q1           float64\n",
       "p0q2           float64\n",
       "p0q3           float64\n",
       "dtype: object"
      ]
     },
     "execution_count": 272,
     "metadata": {},
     "output_type": "execute_result"
    }
   ],
   "source": [
    "x_data[\"station\"].value_counts()\n",
    "x_data.dtypes"
   ]
  },
  {
   "cell_type": "code",
   "execution_count": 273,
   "metadata": {},
   "outputs": [],
   "source": [
    "y_data = y_data.iloc[x_data.index]"
   ]
  },
  {
   "cell_type": "code",
   "execution_count": null,
   "metadata": {},
   "outputs": [],
   "source": [
    "x_data_train, x_data_test, y_data_train, y_data_test = train_test_split(\n",
    "    x_data, y_data\n",
    ")"
   ]
  },
  {
   "cell_type": "code",
   "execution_count": 274,
   "metadata": {},
   "outputs": [
    {
     "name": "stdout",
     "output_type": "stream",
     "text": [
      "Score train 0.9102378482804379\n",
      "Score test 0.9103045779515773\n"
     ]
    }
   ],
   "source": [
    "from sklearn.linear_model import LinearRegression\n",
    "\n",
    "lin = LinearRegression()\n",
    "lin.fit(x_data_train, y_data_train)\n",
    "\n",
    "print(\"Score train\", lin.score(x_data_train, y_data_train))\n",
    "print(\"Score test\", lin.score(x_data_test, y_data_test))"
   ]
  },
  {
   "cell_type": "code",
   "execution_count": 281,
   "metadata": {},
   "outputs": [
    {
     "ename": "TypeError",
     "evalue": "only integer scalar arrays can be converted to a scalar index",
     "output_type": "error",
     "traceback": [
      "\u001b[0;31m---------------------------------------------------------------------------\u001b[0m",
      "\u001b[0;31mTypeError\u001b[0m                                 Traceback (most recent call last)",
      "\u001b[1;32m/mnt/889A656D9A655928/Users/remir/Documents/EI3/STASC/DATA CHALLENGE/data-challenge-2023/train_linear.ipynb Cell 11\u001b[0m line \u001b[0;36m8\n\u001b[1;32m      <a href='vscode-notebook-cell:/mnt/889A656D9A655928/Users/remir/Documents/EI3/STASC/DATA%20CHALLENGE/data-challenge-2023/train_linear.ipynb#X13sZmlsZQ%3D%3D?line=3'>4</a>\u001b[0m my_kfold \u001b[39m=\u001b[39m KFold(n_splits\u001b[39m=\u001b[39m\u001b[39m10\u001b[39m, shuffle\u001b[39m=\u001b[39m\u001b[39mTrue\u001b[39;00m)\n\u001b[1;32m      <a href='vscode-notebook-cell:/mnt/889A656D9A655928/Users/remir/Documents/EI3/STASC/DATA%20CHALLENGE/data-challenge-2023/train_linear.ipynb#X13sZmlsZQ%3D%3D?line=4'>5</a>\u001b[0m scores \u001b[39m=\u001b[39m cross_val_score(\n\u001b[1;32m      <a href='vscode-notebook-cell:/mnt/889A656D9A655928/Users/remir/Documents/EI3/STASC/DATA%20CHALLENGE/data-challenge-2023/train_linear.ipynb#X13sZmlsZQ%3D%3D?line=5'>6</a>\u001b[0m     estimator\u001b[39m=\u001b[39mLinearRegression(), X\u001b[39m=\u001b[39mx_data, y\u001b[39m=\u001b[39my_data, cv\u001b[39m=\u001b[39mmy_kfold, n_jobs\u001b[39m=\u001b[39m\u001b[39m-\u001b[39m\u001b[39m1\u001b[39m\n\u001b[1;32m      <a href='vscode-notebook-cell:/mnt/889A656D9A655928/Users/remir/Documents/EI3/STASC/DATA%20CHALLENGE/data-challenge-2023/train_linear.ipynb#X13sZmlsZQ%3D%3D?line=6'>7</a>\u001b[0m )  \u001b[39m# permet de répartir les calculs sur plusieurs coeurs\u001b[39;00m\n\u001b[0;32m----> <a href='vscode-notebook-cell:/mnt/889A656D9A655928/Users/remir/Documents/EI3/STASC/DATA%20CHALLENGE/data-challenge-2023/train_linear.ipynb#X13sZmlsZQ%3D%3D?line=7'>8</a>\u001b[0m mean(\u001b[39m\"\u001b[39;49m\u001b[39mMean score, 10 Kfold\u001b[39;49m\u001b[39m\"\u001b[39;49m, scores)\n",
      "File \u001b[0;32m<__array_function__ internals>:200\u001b[0m, in \u001b[0;36mmean\u001b[0;34m(*args, **kwargs)\u001b[0m\n",
      "File \u001b[0;32m~/mambaforge/lib/python3.11/site-packages/numpy/core/fromnumeric.py:3464\u001b[0m, in \u001b[0;36mmean\u001b[0;34m(a, axis, dtype, out, keepdims, where)\u001b[0m\n\u001b[1;32m   3461\u001b[0m     \u001b[39melse\u001b[39;00m:\n\u001b[1;32m   3462\u001b[0m         \u001b[39mreturn\u001b[39;00m mean(axis\u001b[39m=\u001b[39maxis, dtype\u001b[39m=\u001b[39mdtype, out\u001b[39m=\u001b[39mout, \u001b[39m*\u001b[39m\u001b[39m*\u001b[39mkwargs)\n\u001b[0;32m-> 3464\u001b[0m \u001b[39mreturn\u001b[39;00m _methods\u001b[39m.\u001b[39;49m_mean(a, axis\u001b[39m=\u001b[39;49maxis, dtype\u001b[39m=\u001b[39;49mdtype,\n\u001b[1;32m   3465\u001b[0m                       out\u001b[39m=\u001b[39;49mout, \u001b[39m*\u001b[39;49m\u001b[39m*\u001b[39;49mkwargs)\n",
      "File \u001b[0;32m~/mambaforge/lib/python3.11/site-packages/numpy/core/_methods.py:169\u001b[0m, in \u001b[0;36m_mean\u001b[0;34m(a, axis, dtype, out, keepdims, where)\u001b[0m\n\u001b[1;32m    165\u001b[0m arr \u001b[39m=\u001b[39m asanyarray(a)\n\u001b[1;32m    167\u001b[0m is_float16_result \u001b[39m=\u001b[39m \u001b[39mFalse\u001b[39;00m\n\u001b[0;32m--> 169\u001b[0m rcount \u001b[39m=\u001b[39m _count_reduce_items(arr, axis, keepdims\u001b[39m=\u001b[39;49mkeepdims, where\u001b[39m=\u001b[39;49mwhere)\n\u001b[1;32m    170\u001b[0m \u001b[39mif\u001b[39;00m rcount \u001b[39m==\u001b[39m \u001b[39m0\u001b[39m \u001b[39mif\u001b[39;00m where \u001b[39mis\u001b[39;00m \u001b[39mTrue\u001b[39;00m \u001b[39melse\u001b[39;00m umr_any(rcount \u001b[39m==\u001b[39m \u001b[39m0\u001b[39m, axis\u001b[39m=\u001b[39m\u001b[39mNone\u001b[39;00m):\n\u001b[1;32m    171\u001b[0m     warnings\u001b[39m.\u001b[39mwarn(\u001b[39m\"\u001b[39m\u001b[39mMean of empty slice.\u001b[39m\u001b[39m\"\u001b[39m, \u001b[39mRuntimeWarning\u001b[39;00m, stacklevel\u001b[39m=\u001b[39m\u001b[39m2\u001b[39m)\n",
      "File \u001b[0;32m~/mambaforge/lib/python3.11/site-packages/numpy/core/_methods.py:77\u001b[0m, in \u001b[0;36m_count_reduce_items\u001b[0;34m(arr, axis, keepdims, where)\u001b[0m\n\u001b[1;32m     75\u001b[0m     items \u001b[39m=\u001b[39m \u001b[39m1\u001b[39m\n\u001b[1;32m     76\u001b[0m     \u001b[39mfor\u001b[39;00m ax \u001b[39min\u001b[39;00m axis:\n\u001b[0;32m---> 77\u001b[0m         items \u001b[39m*\u001b[39m\u001b[39m=\u001b[39m arr\u001b[39m.\u001b[39mshape[mu\u001b[39m.\u001b[39mnormalize_axis_index(ax, arr\u001b[39m.\u001b[39mndim)]\n\u001b[1;32m     78\u001b[0m     items \u001b[39m=\u001b[39m nt\u001b[39m.\u001b[39mintp(items)\n\u001b[1;32m     79\u001b[0m \u001b[39melse\u001b[39;00m:\n\u001b[1;32m     80\u001b[0m     \u001b[39m# TODO: Optimize case when `where` is broadcast along a non-reduction\u001b[39;00m\n\u001b[1;32m     81\u001b[0m     \u001b[39m# axis and full sum is more excessive than needed.\u001b[39;00m\n\u001b[1;32m     82\u001b[0m \n\u001b[1;32m     83\u001b[0m     \u001b[39m# guarded to protect circular imports\u001b[39;00m\n",
      "\u001b[0;31mTypeError\u001b[0m: only integer scalar arrays can be converted to a scalar index"
     ]
    }
   ],
   "source": [
    "from sklearn.model_selection import KFold, cross_val_score\n",
    "from numpy import mean\n",
    "\n",
    "my_kfold = KFold(n_splits=10, shuffle=True)\n",
    "scores = cross_val_score(\n",
    "    estimator=LinearRegression(), X=x_data, y=y_data, cv=my_kfold, n_jobs=-1\n",
    ")  # permet de répartir les calculs sur plusieurs coeurs\n",
    "print(\"Mean score, 10 Kfold\", mean(scores))"
   ]
  }
 ],
 "metadata": {
  "kernelspec": {
   "display_name": "base",
   "language": "python",
   "name": "python3"
  },
  "language_info": {
   "codemirror_mode": {
    "name": "ipython",
    "version": 3
   },
   "file_extension": ".py",
   "mimetype": "text/x-python",
   "name": "python",
   "nbconvert_exporter": "python",
   "pygments_lexer": "ipython3",
   "version": "3.11.6"
  }
 },
 "nbformat": 4,
 "nbformat_minor": 2
}
